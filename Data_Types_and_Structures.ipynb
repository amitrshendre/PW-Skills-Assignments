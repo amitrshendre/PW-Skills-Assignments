{
  "nbformat": 4,
  "nbformat_minor": 0,
  "metadata": {
    "colab": {
      "provenance": [],
      "toc_visible": true
    },
    "kernelspec": {
      "name": "python3",
      "display_name": "Python 3"
    },
    "language_info": {
      "name": "python"
    }
  },
  "cells": [
    {
      "cell_type": "markdown",
      "source": [
        "# **Data Types and Structures**"
      ],
      "metadata": {
        "id": "mWE92LOOd9BB"
      }
    },
    {
      "cell_type": "markdown",
      "source": [
        "Theoractical Questions\n",
        "-----------------------------------------------------------------\n",
        "Q1. What are data structures, and why are they important?\n",
        "-  Data structures are a specific way of organizing data in a well organized  format on a computer so that the information can be organized, processed, stored, and retrieved quickly and effectively.\n",
        "- It is important because\n",
        "    - they make the code more efficient.\n",
        "    - and they make the code easier to understand.\n",
        "    - Simplify data manipulation (adding, removing, modifying elements).\n",
        "    - Conserve memory usage.\n",
        "-----------------------------------------------------------------\n",
        "Q2. Explain the difference between mutable and immutable data types with examples.\n",
        "-  Mutable data types in which the data can be modified by adding or removing the element .\n",
        "  -  e.g.: List , set and ddictionaries.\n",
        "- Immutable data types in which the data cannot be modified by adding or removing the element.\n",
        "  -  e.g.: Stings and Tuples\n",
        "-----------------------------------------------------------------\n",
        "Q3. What are the main differences between lists and tuples in Python?\n",
        "-  Lists are mutable which means the values are editable even after the list is being created, where as, Tuples are immutable which means tuples cannot be modified by adding or removing element.\n",
        "-----------------------------------------------------------------\n",
        "Q4. Describe how dictionaries store data.\n",
        "-  Dictionaries are key-value pairs that allow you to store and retrieve data based on a 'unique key'. The keys must be immutable or unique, such as strings or numbers. Dictionaries are useful for storing data that needs to be accessed quickly and efficiently.\n",
        "      \n",
        "          syntax:\n",
        "          dic = {\"name\":\"Amit\", \"email\":\"amits@gmail.com\", \"contact\": 21871}\n",
        "          #key must be unique in this key are; name, email ,contact.\n",
        "-----------------------------------------------------------------\n",
        "Q5.  Why might you use a set instead of a list in Python?\n",
        "-  Use Set when you want the content should be unique and order of content doesn't matter, while List is used when you need to maintain the order of elements and allow duplicates.\n",
        "-----------------------------------------------------------------\n",
        "Q6. What is a string in Python, and how is it different from a list?\n",
        "-  String is a sequence of data. The main difference is that, String is a immutable data type while list is mutable. Stings data are to be stroed within single(' ') or double quote (\" \").\n",
        "-----------------------------------------------------------------\n",
        "Q7.  How do tuples ensure data integrity in Python?\n",
        "-  Tuples are immutable to ensure that their contents remains constant. which means the value will remain unchanged.\n",
        "-----------------------------------------------------------------\n",
        "Q8. What is a hash table, and how does it relate to dictionaries in Python?\n",
        "-  A Hash Table in Python is nothing but a data structure where data is stored in an proper manner. In hash tables, data is stored in an array format, with every data value having an exclusive or unique index value.\n",
        "-----------------------------------------------------------------\n",
        "Q9. Can lists contain different data types in Python?\n",
        "-  Yes, lists can contain the different data types in python. Like, string , integer, bollean, and so on.\n",
        "-----------------------------------------------------------------\n",
        "Q10.  Explain why strings are immutable in Python.\n",
        "-  As we know onces the string value is being assigned to the varible the value cannot be changed or modifed because the value is being assigned in the varible or memory of the system.\n",
        "-----------------------------------------------------------------\n",
        "Q11.What advantages do dictionaries offer over lists for certain tasks?\n",
        "-  The dictionaries stores data as key value pair which helps in retreving the data more effectively.\n",
        "- where as in lists the data retreiving the index postion has to be given for getting the data fromn the list\n",
        "          #in dictionaries the retreving of data by using the key i.e. name\n",
        "          dic = {\"name\":\"Amit\", \"email\":\"amits@gmail.com\", \"contact\": 21871}\n",
        "          dic['name']\n",
        "          \n",
        "          #in lists the retreving of data by using the index no.\n",
        "          list1= [1, 2, 3, 4]\n",
        "          list[0]\n",
        "-----------------------------------------------------------------\n",
        "Q12. Describe a scenario where using a tuple would be preferable over a list.\n",
        "-  Tuples can be used in the scenario where the value has be remained unchanged\n",
        "\n",
        "For example\n",
        "- employee id\n",
        "- roll no\n",
        "- account number and many more.\n",
        "-----------------------------------------------------------------\n",
        "Q13.How do sets handle duplicate values in Python?\n",
        "-  Set function is being used to remove duplicate values in python.\n",
        "          syntax:\n",
        "          items = ['apple', 'banana', 'apple', 'onion', 'apple']\n",
        "          set1 = (set(items))\n",
        "          print(set1)\n",
        "-----------------------------------------------------------------\n",
        "Q14.How does the “in” keyword work differently for lists and dictionaries?\n",
        "-  \"in\" keyword in list are usefull to find whether the element is present in the list or not\n",
        "          example:\n",
        "          my_list = [\"Apple\", \"orange\"]\n",
        "          my_list\n",
        "          'Apple' in my_list\n",
        "          \n",
        "          output:\n",
        "                 True\n",
        "- \"in\" operator in dictonaries are used in zip function it tells you whether something appears or not as a key in the dictionary\n",
        "          example:\n",
        "          students = [\"Amit\", \"Bhagya\"]\n",
        "          marks = [80, 100]\n",
        "          {student:marks for student, marks in zip(students, marks)}\n",
        "-----------------------------------------------------------------\n",
        "Q15. Can you modify the elements of a tuple? Explain why or why not.\n",
        "- No, we can not add, remove or modify the elements of a tuple once it is created , because the tuples are immutable data type and once the value being assigned it cannot be modified\n",
        "-----------------------------------------------------------------\n",
        "Q16.What is a nested dictionary, and give an example of its use case?\n",
        "-  In Python, a nested dictionary is a dictionary inside a dictionary. It's a collection of dictionaries into one single dictionary.\n",
        "- the most popular use case is in:\n",
        "    - Restaurants\n",
        "    - Offices\n",
        "    - Schools\n",
        "    - Big companies\n",
        "\n",
        "            For example:\n",
        "            student = {\n",
        "              'R1': {'name': 'AMIT', 'age': 25, 'contact': '1234'},\n",
        "              'R2': {'name': 'BHAGYA', 'age': 24, 'contact': '7890'}\n",
        "              }\n",
        "            student['R1']\n",
        "\n",
        "            output:\n",
        "                  {'name': 'AMIT', 'age': 25, 'contact': '1234'}\n",
        "-----------------------------------------------------------------\n",
        "Q17.Describe the time complexity of accessing elements in a dictionary.\n",
        "-  The time complexity of inserting a new element into a Python dictionary is typically O(1). This means that the time taken to insert an element into a dictionary is constant, regardless of the size of the dictionary. This is because Python dictionaries use a hash table data structure, which allows for fast insertion, retrieval, and deletion of key-value pairs.\n",
        "-----------------------------------------------------------------\n",
        "Q18.In what situations are lists preferred over dictionaries?\n",
        "-  If you need an ordered collection, like a sequence of user actions, then lists are useful. On the other hand, when you need quick look-ups to user data, dictionaries are invaluable.\n",
        "- Elements from the list can be accessed using the index, while the elements of the dictionary can be accessed using keys.\n",
        "-----------------------------------------------------------------\n",
        "Q19. Why are dictionaries considered unordered, and how does that affect data retrieval?\n",
        "-  Dictionary is a data structure which is a important value structure, optimized for fast storage and recovery based on key. In python, dictionaries are unordered because Python dictionaries are not programmed to be in order, as simple as that.\n",
        "-----------------------------------------------------------------\n",
        "Q20.Explain the difference between a list and a dictionary in terms of data retrieval.\n",
        "- A list is an ordered collection of items, whereas a dictionary is an unordered data collection in a key-value pair. Elements from the list can be accessed using the index, while the elements of the dictionary can be accessed using keys.\n",
        "          For exasmple:\n",
        "            #in dictionaries the retreving of data by using the key i.e. name\n",
        "              dic = {\"name\":\"Amit\", \"email\":\"amits@gmail.com\", \"contact\": 21871}\n",
        "              dic['name']\n",
        "         \n",
        "          #in lists the retreving of data by using the index no.\n",
        "            list1= [1, 2, 3, 4]\n",
        "            list[0]"
      ],
      "metadata": {
        "id": "sbVZc-NVeXfP"
      }
    },
    {
      "cell_type": "markdown",
      "source": [
        "# Practical Questions"
      ],
      "metadata": {
        "id": "VklIh4W7gf6Y"
      }
    },
    {
      "cell_type": "code",
      "source": [
        "#Practical question\n",
        "'''\n",
        "Q1.  Write a code to create a string with your name and print it.\n",
        "\n",
        "'''\n",
        "'''\n",
        "Answere:-1\n",
        "'''\n",
        "#in this the name is already defined\n",
        "name = \"AMIT RAJENDRA SHENDRE\"\n",
        "print(\"My name is:\", name)\n",
        "\n",
        "#in this the value can be added by using input function and the value will be stored in the form of string.\n",
        "\n",
        "my_name = input(\"Enter your name:\")\n",
        "print(\"My name is:\", my_name)\n",
        "type(my_name)"
      ],
      "metadata": {
        "id": "nb5xgWOxguAS",
        "colab": {
          "base_uri": "https://localhost:8080/"
        },
        "outputId": "6c6723ff-8341-4193-f689-563489da2778"
      },
      "execution_count": 1,
      "outputs": [
        {
          "output_type": "stream",
          "name": "stdout",
          "text": [
            "My name is: AMIT RAJENDRA SHENDRE\n",
            "Enter your name:AMIT\n",
            "My name is: AMIT\n"
          ]
        },
        {
          "output_type": "execute_result",
          "data": {
            "text/plain": [
              "str"
            ]
          },
          "metadata": {},
          "execution_count": 1
        }
      ]
    },
    {
      "cell_type": "code",
      "source": [
        "#Practical question\n",
        "'''\n",
        "Q2. Write a code to find the length of the string \"Hello World\".\n",
        "\n",
        "'''\n",
        "'''\n",
        "Answere:-2\n",
        "'''\n",
        "quote = \"Hello World\"\n",
        "length = len(quote)\n",
        "print(\"Length of the string:\", length)\n",
        "#the output includes the total length of string including space\n"
      ],
      "metadata": {
        "id": "KjoQYtEzieKQ",
        "colab": {
          "base_uri": "https://localhost:8080/"
        },
        "outputId": "76f34485-7b3d-4f12-e10a-67b771fa60b9"
      },
      "execution_count": null,
      "outputs": [
        {
          "output_type": "stream",
          "name": "stdout",
          "text": [
            "Length of the string: 11\n"
          ]
        }
      ]
    },
    {
      "cell_type": "code",
      "source": [
        "#Practical question\n",
        "'''\n",
        "Q3. Write a code to slice the first 3 characters from the string \"Python Programming\".\n",
        "\n",
        "'''\n",
        "'''\n",
        "Answere:-3\n",
        "'''\n",
        "quote = \"Python Programming\"\n",
        "sliced_quote = quote[:3]\n",
        "print(\"First 3 characters from the string:\", sliced_quote)\n"
      ],
      "metadata": {
        "id": "LIQzQeZ_id57",
        "colab": {
          "base_uri": "https://localhost:8080/"
        },
        "outputId": "5378c4a5-3bb8-44a6-e015-3c36c04c8468"
      },
      "execution_count": null,
      "outputs": [
        {
          "output_type": "stream",
          "name": "stdout",
          "text": [
            "First 3 characters from the string: Pyt\n"
          ]
        }
      ]
    },
    {
      "cell_type": "code",
      "source": [
        "#Practical question\n",
        "'''\n",
        "Q4. Write a code to convert the string \"hello\" to uppercase.\n",
        "\n",
        "'''\n",
        "'''\n",
        "Answere:-4\n",
        "'''\n",
        "quote = \"hello\"\n",
        "print(\"Original quote:\", quote) #Adding this to show the conversion.\n",
        "uppercase_quote = quote.upper()\n",
        "print(\"Uppercase quote:\", uppercase_quote)"
      ],
      "metadata": {
        "id": "z6R7g1M5idpS",
        "colab": {
          "base_uri": "https://localhost:8080/"
        },
        "outputId": "cb833270-07d7-4dea-fc8a-748dc581aafa"
      },
      "execution_count": null,
      "outputs": [
        {
          "output_type": "stream",
          "name": "stdout",
          "text": [
            "Original quote: hello\n",
            "Uppercase quote: HELLO\n"
          ]
        }
      ]
    },
    {
      "cell_type": "code",
      "source": [
        "#Practical question\n",
        "'''\n",
        "Q5. Write a code to replace the word \"apple\" with \"orange\" in the string \"I like apple\".\n",
        "\n",
        "'''\n",
        "'''\n",
        "Answere:-5\n",
        "'''\n",
        "quote = \"I like apple\"\n",
        "print(\"Original string value:\", quote)\n",
        "new_quote = quote.replace(\"apple\", \"orange\")\n",
        "print(\"Replaced string value:\" , new_quote)"
      ],
      "metadata": {
        "id": "kmY49SXridXs",
        "colab": {
          "base_uri": "https://localhost:8080/"
        },
        "outputId": "b7d08ce6-ccdc-41bf-b272-4addb09c85b4"
      },
      "execution_count": null,
      "outputs": [
        {
          "output_type": "stream",
          "name": "stdout",
          "text": [
            "Original string value: I like apple\n",
            "Replaced string value: I like orange\n"
          ]
        }
      ]
    },
    {
      "cell_type": "code",
      "source": [
        "#Practical question\n",
        "'''\n",
        "Q6. Write a code to create a list with numbers 1 to 5 and print it.\n",
        "\n",
        "'''\n",
        "'''\n",
        "Answere:-6\n",
        "'''\n",
        "my_list = list(range(1,6))\n",
        "print(\"My list:\", my_list)"
      ],
      "metadata": {
        "id": "Lsl4X7m4idIA",
        "colab": {
          "base_uri": "https://localhost:8080/"
        },
        "outputId": "76d245eb-1dae-4818-f505-1f937aaaa153"
      },
      "execution_count": null,
      "outputs": [
        {
          "output_type": "stream",
          "name": "stdout",
          "text": [
            "My list: [1, 2, 3, 4, 5]\n"
          ]
        }
      ]
    },
    {
      "cell_type": "code",
      "source": [
        "#Practical question\n",
        "'''\n",
        "Q7. Write a code to append the number 10 to the list [1, 2, 3, 4].\n",
        "\n",
        "'''\n",
        "'''\n",
        "Answere:-7\n",
        "'''\n",
        "my_list = [1, 2, 3, 4]\n",
        "my_list.append(10)\n",
        "print(\"New updated list:\", my_list)"
      ],
      "metadata": {
        "id": "_iPQElHpic0v",
        "colab": {
          "base_uri": "https://localhost:8080/"
        },
        "outputId": "ce89780a-0f39-4adf-e086-95266eecb4e5"
      },
      "execution_count": null,
      "outputs": [
        {
          "output_type": "stream",
          "name": "stdout",
          "text": [
            "New updated list: [1, 2, 3, 4, 10]\n"
          ]
        }
      ]
    },
    {
      "cell_type": "code",
      "source": [
        "#Practical question\n",
        "'''\n",
        "Q8. Write a code to remove the number 3 from the list [1, 2, 3, 4, 5].\n",
        "\n",
        "'''\n",
        "'''\n",
        "Answere:-8\n",
        "'''\n",
        "my_list = [1, 2, 3, 4, 5]\n",
        "my_list.remove(3)\n",
        "print(\"Updated list:\", my_list)"
      ],
      "metadata": {
        "id": "FwQlBMJ5iceQ",
        "colab": {
          "base_uri": "https://localhost:8080/"
        },
        "outputId": "65ff84b7-90f1-458b-e4c0-cf92ecfb226e"
      },
      "execution_count": null,
      "outputs": [
        {
          "output_type": "stream",
          "name": "stdout",
          "text": [
            "Updated list: [1, 2, 4, 5]\n"
          ]
        }
      ]
    },
    {
      "cell_type": "code",
      "source": [
        "#Practical question\n",
        "'''\n",
        "Q9. Write a code to access the second element in the list ['a', 'b', 'c', 'd'].\n",
        "\n",
        "'''\n",
        "'''\n",
        "Answere:-9\n",
        "'''\n",
        "my_list = ['a', 'b', 'c', 'd']\n",
        "second_element = my_list[1]\n",
        "print(\"second element:\" , second_element)"
      ],
      "metadata": {
        "id": "IBx2Dvc5icL5",
        "colab": {
          "base_uri": "https://localhost:8080/"
        },
        "outputId": "324f754a-5a9c-4c1d-b7b0-dfd1c8fa3fa0"
      },
      "execution_count": null,
      "outputs": [
        {
          "output_type": "stream",
          "name": "stdout",
          "text": [
            "second element: b\n"
          ]
        }
      ]
    },
    {
      "cell_type": "code",
      "source": [
        "#Practical question\n",
        "'''\n",
        "Q10.  Write a code to reverse the list [10, 20, 30, 40, 50].\n",
        "\n",
        "'''\n",
        "'''\n",
        "Answere:-10\n",
        "'''\n",
        "\n",
        "original_list = [10, 20, 30, 40, 50]\n",
        "original_list.reverse()\n",
        "print(\"Reversed List:\", original_list)\n",
        "\n"
      ],
      "metadata": {
        "id": "XIxk3wsGibw3",
        "colab": {
          "base_uri": "https://localhost:8080/"
        },
        "outputId": "aa5c72a8-d809-4f03-d5c6-1926e3ceb5d7"
      },
      "execution_count": 2,
      "outputs": [
        {
          "output_type": "stream",
          "name": "stdout",
          "text": [
            "Reversed List: [50, 40, 30, 20, 10]\n"
          ]
        }
      ]
    },
    {
      "cell_type": "code",
      "source": [
        "#Practical question\n",
        "'''\n",
        "Q11. Write a code to create a tuple with the elements 100, 200, 300 and print it.\n",
        "\n",
        "'''\n",
        "'''\n",
        "Answere:-11\n",
        "'''\n",
        "my_tuple = (100, 200, 300)\n",
        "print(\"My tuple:\", my_tuple)\n",
        "type(my_tuple)"
      ],
      "metadata": {
        "id": "YFiildUUibfQ",
        "colab": {
          "base_uri": "https://localhost:8080/"
        },
        "outputId": "615a7faf-5489-47fa-aa4c-07d25e8e3bf9"
      },
      "execution_count": 3,
      "outputs": [
        {
          "output_type": "stream",
          "name": "stdout",
          "text": [
            "My tuple: (100, 200, 300)\n"
          ]
        },
        {
          "output_type": "execute_result",
          "data": {
            "text/plain": [
              "tuple"
            ]
          },
          "metadata": {},
          "execution_count": 3
        }
      ]
    },
    {
      "cell_type": "code",
      "source": [
        "#Practical question\n",
        "'''\n",
        "Q12. Write a code to access the second-to-last element of the tuple ('red', 'green', 'blue', 'yellow').\n",
        "\n",
        "'''\n",
        "'''\n",
        "Answere:-12\n",
        "'''\n",
        "my_tuple = ('red', 'green', 'blue', 'yellow')\n",
        "second_to_last_element = my_tuple[-2]\n",
        "print(second_to_last_element)"
      ],
      "metadata": {
        "id": "-Dh3PEBDibMT",
        "colab": {
          "base_uri": "https://localhost:8080/"
        },
        "outputId": "a14e0dd3-2ba5-4c02-bd27-64423687f1db"
      },
      "execution_count": 8,
      "outputs": [
        {
          "output_type": "stream",
          "name": "stdout",
          "text": [
            "blue\n"
          ]
        }
      ]
    },
    {
      "cell_type": "code",
      "source": [
        "#Practical question\n",
        "'''\n",
        "Q13. Write a code to find the minimum number in the tuple (10, 20, 5, 15).\n",
        "'''\n",
        "'''\n",
        "Answere:-13\n",
        "'''\n",
        "my_tuple = (10, 20, 5, 15)\n",
        "min_number = min(my_tuple)\n",
        "print(min_number)\n"
      ],
      "metadata": {
        "id": "tJgirN3Hia6L",
        "colab": {
          "base_uri": "https://localhost:8080/"
        },
        "outputId": "f3789d84-777a-4d78-b878-6b96cd34b91a"
      },
      "execution_count": 9,
      "outputs": [
        {
          "output_type": "stream",
          "name": "stdout",
          "text": [
            "5\n"
          ]
        }
      ]
    },
    {
      "cell_type": "code",
      "source": [
        "#Practical question\n",
        "'''\n",
        "Q14. Write a code to find the index of the element \"cat\" in the tuple ('dog', 'cat', 'rabbit').\n",
        "\n",
        "'''\n",
        "'''\n",
        "Answere:-14\n",
        "'''\n",
        "my_tuple = ('dog', 'cat', 'rabbit')\n",
        "index = my_tuple.index('cat')\n",
        "print(\"The index of the element 'cat' in the tuple is:\", index)"
      ],
      "metadata": {
        "id": "qbqDOFQziaoQ",
        "colab": {
          "base_uri": "https://localhost:8080/"
        },
        "outputId": "5db0d704-2c80-4476-a9a2-ffb0f0029e4f"
      },
      "execution_count": null,
      "outputs": [
        {
          "output_type": "stream",
          "name": "stdout",
          "text": [
            "The index of the element 'cat' in the tuple is: 1\n"
          ]
        }
      ]
    },
    {
      "cell_type": "code",
      "source": [
        "#Practical question\n",
        "'''\n",
        "Q15. Write a code to create a tuple containing three different fruits and check if \"kiwi\" is in it.\n",
        "\n",
        "'''\n",
        "'''\n",
        "Answere:-15\n",
        "'''\n",
        "my_tuple = ('apple', 'kiwi', 'banana')\n",
        "if  'banana' in my_tuple:\n",
        "  print(\"Yes, 'kiwi' is in the tuple\")\n",
        "else:\n",
        "  print(\"No, 'kiwi' is not in the tuple\")"
      ],
      "metadata": {
        "id": "myKtP4HBiaW4",
        "colab": {
          "base_uri": "https://localhost:8080/"
        },
        "outputId": "2100aa14-0d9c-46ec-cb38-7feb4db9d75c"
      },
      "execution_count": 2,
      "outputs": [
        {
          "output_type": "stream",
          "name": "stdout",
          "text": [
            "Yes, 'kiwi' is in the tuple\n"
          ]
        }
      ]
    },
    {
      "cell_type": "code",
      "source": [
        "#Practical question\n",
        "'''\n",
        "Q16. Write a code to create a set with the elements 'a' , 'b' , 'c' and print it.\n",
        "\n",
        "'''\n",
        "'''\n",
        "Answere:-16\n",
        "'''\n",
        "my_set = {'a', 'b', 'c'}\n",
        "print(my_set)"
      ],
      "metadata": {
        "id": "PEDx3IdfiaEB",
        "colab": {
          "base_uri": "https://localhost:8080/"
        },
        "outputId": "fa82a157-a10a-48ad-d1fe-4ce7d6df9ae3"
      },
      "execution_count": 50,
      "outputs": [
        {
          "output_type": "stream",
          "name": "stdout",
          "text": [
            "{'a', 'b', 'c'}\n"
          ]
        }
      ]
    },
    {
      "cell_type": "code",
      "source": [
        "#Practical question\n",
        "'''\n",
        "Q17. Write a code to clear all elements from the set {1, 2, 3, 4, 5}.\n",
        "\n",
        "'''\n",
        "'''\n",
        "Answere:-17\n",
        "'''\n",
        "my_set = {1, 2, 3, 4, 5}\n",
        "my_set.clear()\n",
        "print(my_set)  # Output: set()"
      ],
      "metadata": {
        "id": "Y2RmH_HkiZqX",
        "colab": {
          "base_uri": "https://localhost:8080/"
        },
        "outputId": "b687f524-3374-4746-e6c5-787f0614c7c9"
      },
      "execution_count": 9,
      "outputs": [
        {
          "output_type": "stream",
          "name": "stdout",
          "text": [
            "set()\n"
          ]
        }
      ]
    },
    {
      "cell_type": "code",
      "source": [
        "#Practical question\n",
        "'''\n",
        "Q18. Write a code to remove the element 4 from the set {1, 2, 3, 4}.\n",
        "\n",
        "'''\n",
        "'''\n",
        "Answere:-18\n",
        "'''\n",
        "my_set = {1, 2, 3, 4}\n",
        "my_set.remove(4)\n",
        "print(my_set)\n"
      ],
      "metadata": {
        "id": "x2GdJ6zziYAt",
        "colab": {
          "base_uri": "https://localhost:8080/"
        },
        "outputId": "ea3816bb-7a8d-4c0e-9095-ca951452d8c9"
      },
      "execution_count": 10,
      "outputs": [
        {
          "output_type": "stream",
          "name": "stdout",
          "text": [
            "{1, 2, 3}\n"
          ]
        }
      ]
    },
    {
      "cell_type": "code",
      "source": [
        "#Practical question\n",
        "'''\n",
        "Q19.  Write a code to find the union of two sets {1, 2, 3} and {3, 4, 5}.\n",
        "\n",
        "'''\n",
        "'''\n",
        "Answere:-19\n",
        "'''\n",
        "set1 = {1, 2, 3}\n",
        "set2 = {3, 4, 5}\n",
        "\n",
        "union_set = set1.union(set2)\n",
        "\n",
        "print(union_set)"
      ],
      "metadata": {
        "id": "NokcFsP4iXt3",
        "colab": {
          "base_uri": "https://localhost:8080/"
        },
        "outputId": "101cb7d0-4055-41f6-ebb4-1f59e71bae70"
      },
      "execution_count": 11,
      "outputs": [
        {
          "output_type": "stream",
          "name": "stdout",
          "text": [
            "{1, 2, 3, 4, 5}\n"
          ]
        }
      ]
    },
    {
      "cell_type": "code",
      "source": [
        "#Practical question\n",
        "'''\n",
        "Q20.  Write a code to find the intersection of two sets {1, 2, 3} and {2, 3, 4}.\n",
        "\n",
        "'''\n",
        "'''\n",
        "Answere:-20\n",
        "'''\n",
        "set1 = {1, 2, 3}\n",
        "set2 = {2, 3, 4}\n",
        "intersection_set = set1.intersection(set2)\n",
        "print(intersection_set)"
      ],
      "metadata": {
        "id": "Gu9KjGQiiXXi",
        "colab": {
          "base_uri": "https://localhost:8080/"
        },
        "outputId": "974f02d4-1806-4cbd-9fe8-211cf90a7b7b"
      },
      "execution_count": 12,
      "outputs": [
        {
          "output_type": "stream",
          "name": "stdout",
          "text": [
            "{2, 3}\n"
          ]
        }
      ]
    },
    {
      "cell_type": "code",
      "source": [
        "#Practical question\n",
        "'''\n",
        "Q21. Write a code to create a dictionary with the keys \"name\", \"age\", and \"city\", and print it\n",
        "'''\n",
        "'''\n",
        "Answere:-21\n",
        "'''\n",
        "a = {\n",
        "    \"name\": \"Amit\",\n",
        "    \"age\": 25,\n",
        "    \"city\": \"Nashik\"\n",
        "}\n",
        "\n",
        "print(a)"
      ],
      "metadata": {
        "id": "1dRi8GOmiWiN",
        "colab": {
          "base_uri": "https://localhost:8080/"
        },
        "outputId": "718797a7-a7a8-4dbc-8f7e-5b784ca03272"
      },
      "execution_count": 52,
      "outputs": [
        {
          "output_type": "stream",
          "name": "stdout",
          "text": [
            "{'name': 'Amit', 'age': 25, 'city': 'Nashik'}\n"
          ]
        }
      ]
    },
    {
      "cell_type": "code",
      "source": [
        "#Practical question\n",
        "'''\n",
        "Q22. Write a code to add a new key-value pair \"country\": \"USA\" to the dictionary {'name': 'John', 'age': 25}\n",
        "\n",
        "'''\n",
        "'''\n",
        "Answere:-22\n",
        "'''\n",
        "my_dict = {'name': 'John', 'age': 25}\n",
        "my_dict['country'] = 'USA'\n",
        "print(my_dict)"
      ],
      "metadata": {
        "id": "5GFoYczAiV28",
        "colab": {
          "base_uri": "https://localhost:8080/"
        },
        "outputId": "e7b3179e-f0dd-441e-ed0d-9a42b911875b"
      },
      "execution_count": 46,
      "outputs": [
        {
          "output_type": "stream",
          "name": "stdout",
          "text": [
            "{'name': 'John', 'age': 25, 'country': 'USA'}\n"
          ]
        }
      ]
    },
    {
      "cell_type": "code",
      "source": [
        "#Practical question\n",
        "'''\n",
        "Q23. Write a code to access the value associated with the key \"name\" in the dictionary {'name': 'Alice', 'age': 30}.\n",
        "\n",
        "'''\n",
        "'''\n",
        "Answere:-23\n",
        "'''\n",
        "my_dict = {\"name\": \"Alice\", \"age\": 30}\n",
        "print(my_dict[\"name\"])"
      ],
      "metadata": {
        "id": "91I96M3Lg3dQ",
        "colab": {
          "base_uri": "https://localhost:8080/"
        },
        "outputId": "0c4304be-bd63-4690-8be3-81ac8050bc0f"
      },
      "execution_count": 32,
      "outputs": [
        {
          "output_type": "stream",
          "name": "stdout",
          "text": [
            "Alice\n"
          ]
        }
      ]
    },
    {
      "cell_type": "code",
      "source": [
        "#Practical question\n",
        "'''\n",
        "Q24. Write a code to remove the key \"age\" from the dictionary {'name': 'Bob', 'age': 22, 'city': 'New York'}.\n",
        "\n",
        "'''\n",
        "'''\n",
        "Answere:-24\n",
        "'''\n",
        "my_dict = {'name': 'Bob', 'age': 22, 'city': 'New York'}\n",
        "del my_dict['age']\n",
        "print(my_dict)\n"
      ],
      "metadata": {
        "colab": {
          "base_uri": "https://localhost:8080/"
        },
        "id": "Ghv0D64abNiO",
        "outputId": "1d9f05c3-48ed-4ed3-9538-9b6afb1e7449"
      },
      "execution_count": 47,
      "outputs": [
        {
          "output_type": "stream",
          "name": "stdout",
          "text": [
            "{'name': 'Bob', 'city': 'New York'}\n"
          ]
        }
      ]
    },
    {
      "cell_type": "code",
      "source": [
        "#Practical question\n",
        "'''\n",
        "Q25. Write a code to check if the key \"city\" exists in the dictionary {'name': 'Alice', 'city': 'Paris'}.\n",
        "'''\n",
        "'''\n",
        "Answere:-25\n",
        "'''\n",
        "my_dict = {\"name\": \"Alice\", \"age\": 30, \"city\": \"Paris\"}\n",
        "if \"city\" in my_dict:\n",
        "    print(my_dict[\"city\"])"
      ],
      "metadata": {
        "colab": {
          "base_uri": "https://localhost:8080/"
        },
        "id": "Fq_42FyMNSQE",
        "outputId": "71927093-3d97-450a-8bec-4112319f440f"
      },
      "execution_count": 37,
      "outputs": [
        {
          "output_type": "stream",
          "name": "stdout",
          "text": [
            "Paris\n"
          ]
        }
      ]
    },
    {
      "cell_type": "code",
      "source": [
        "#Practical question\n",
        "'''\n",
        "Q26. Write a code to create a list, a tuple, and a dictionary, and print them all.\n",
        "'''\n",
        "'''\n",
        "Answere:-26\n",
        "'''\n",
        "# Create a list\n",
        "my_list = [1, 2, 3, \"apple\", \"mango\"]\n",
        "\n",
        "# Create a tuple\n",
        "my_tuple = (4, 5, 6, \"cherry\", \"date\")\n",
        "\n",
        "# Create a dictionary\n",
        "my_dictionary = {\n",
        "    \"name\": \"Amit\",\n",
        "    \"age\": 25,\n",
        "    \"city\": \"Nashik\"\n",
        "}\n",
        "\n",
        "# Print them all\n",
        "print(\"My List:\", my_list)\n",
        "print(\"My Tuple:\", my_tuple)\n",
        "print(\"My Dictionary:\", my_dictionary)"
      ],
      "metadata": {
        "colab": {
          "base_uri": "https://localhost:8080/"
        },
        "id": "Qby3LSxpNSHv",
        "outputId": "24182832-7f2c-4eb0-bd9e-fad78c999bd9"
      },
      "execution_count": 48,
      "outputs": [
        {
          "output_type": "stream",
          "name": "stdout",
          "text": [
            "My List: [1, 2, 3, 'apple', 'mango']\n",
            "My Tuple: (4, 5, 6, 'cherry', 'date')\n",
            "My Dictionary: {'name': 'Amit', 'age': 25, 'city': 'Nashik'}\n"
          ]
        }
      ]
    },
    {
      "cell_type": "code",
      "source": [
        "#Practical question\n",
        "'''\n",
        "Q27. Write a code to create a list of 5 random numbers between 1 and 100, sort it in ascending order, and print the\n",
        "result.(replaced).\n",
        "'''\n",
        "'''\n",
        "Answere:-27\n",
        "'''\n",
        "import random\n",
        "\n",
        "# Create a list of 5 random numbers between 1 and 100\n",
        "random_numbers = [random.randint(1, 100) for _ in range(5)]\n",
        "\n",
        "# Sort the list in ascending order\n",
        "random_numbers.sort()\n",
        "\n",
        "# Print the sorted list\n",
        "print(\"Sorted list of random numbers:\", random_numbers)\n"
      ],
      "metadata": {
        "colab": {
          "base_uri": "https://localhost:8080/"
        },
        "id": "GgcclNqwNR_c",
        "outputId": "4309edcb-3109-4308-b935-54e985c08142"
      },
      "execution_count": 41,
      "outputs": [
        {
          "output_type": "stream",
          "name": "stdout",
          "text": [
            "Sorted list of random numbers: [1, 6, 38, 52, 88]\n"
          ]
        }
      ]
    },
    {
      "cell_type": "code",
      "source": [
        "#Practical question\n",
        "'''\n",
        "Q28. Write a code to create a list with strings and print the element at the third index.\n",
        "'''\n",
        "'''\n",
        "Answere:-28\n",
        "'''\n",
        "my_list = [\"apple\", \"banana\", \"cherry\", \"date\", \"elderberry\"]\n",
        "\n",
        "# Print the element at the third index\n",
        "print(my_list[2])"
      ],
      "metadata": {
        "colab": {
          "base_uri": "https://localhost:8080/"
        },
        "id": "NZTgs5GXNR2g",
        "outputId": "54669b20-c55b-4d34-823a-b5c6fb68882f"
      },
      "execution_count": 49,
      "outputs": [
        {
          "output_type": "stream",
          "name": "stdout",
          "text": [
            "cherry\n"
          ]
        }
      ]
    },
    {
      "cell_type": "code",
      "source": [
        "#Practical question\n",
        "'''\n",
        "Q29. Write a code to combine two dictionaries into one and print the result.\n",
        "'''\n",
        "'''\n",
        "Answere:-29\n",
        "'''\n",
        "dict_one = {'a': 1, 'b': 2}\n",
        "dict_two = {'c': 3, 'd': 4}\n",
        "dict_one.update(dict_two)\n",
        "print(dict_one)\n"
      ],
      "metadata": {
        "colab": {
          "base_uri": "https://localhost:8080/"
        },
        "id": "UsoRea0UNRiK",
        "outputId": "be75554f-6921-40b6-9cc2-ea5a7bcd5c53"
      },
      "execution_count": 4,
      "outputs": [
        {
          "output_type": "stream",
          "name": "stdout",
          "text": [
            "{'a': 1, 'b': 2, 'c': 3, 'd': 4}\n"
          ]
        }
      ]
    },
    {
      "cell_type": "code",
      "source": [
        "#Practical question\n",
        "'''\n",
        "Q30. Write a code to convert a list of strings into a set.\n",
        "'''\n",
        "'''\n",
        "Answere:-30\n",
        "'''\n",
        "my_list = [\"apple\", \"banana\", \"cherry\", \"apple\", \"date\"]\n",
        "my_set = set(my_list)\n",
        "print(my_set)"
      ],
      "metadata": {
        "colab": {
          "base_uri": "https://localhost:8080/"
        },
        "id": "AOBDDuuRNRZd",
        "outputId": "83d976cf-24e9-4345-c4a8-ed697d430add"
      },
      "execution_count": 45,
      "outputs": [
        {
          "output_type": "stream",
          "name": "stdout",
          "text": [
            "{'date', 'banana', 'apple', 'cherry'}\n"
          ]
        }
      ]
    }
  ]
}