{
  "nbformat": 4,
  "nbformat_minor": 0,
  "metadata": {
    "colab": {
      "provenance": []
    },
    "kernelspec": {
      "name": "python3",
      "display_name": "Python 3"
    },
    "language_info": {
      "name": "python"
    }
  },
  "cells": [
    {
      "cell_type": "markdown",
      "source": [
        "#**EDA Assignment**\n",
        "# Bike Dataset"
      ],
      "metadata": {
        "id": "ySsOWTt_0q1Y"
      }
    },
    {
      "cell_type": "code",
      "source": [
        "# importing all the necessary libraries\n",
        "import pandas as pd\n",
        "import numpy as np\n",
        "import seaborn as sns\n",
        "import matplotlib.pyplot as plt\n",
        "\n",
        "# reading the data from the csv file\n",
        "df = pd.read_csv('BIKE DETAILS.csv')\n",
        "\n",
        "# Display basic information about the dataset\n",
        "df.info()\n",
        "df.head()\n"
      ],
      "metadata": {
        "colab": {
          "base_uri": "https://localhost:8080/",
          "height": 449
        },
        "id": "s5EuwU9fHtA0",
        "outputId": "fe4bdf3a-9c3a-4654-d05b-35bed40a2f44"
      },
      "execution_count": 2,
      "outputs": [
        {
          "output_type": "stream",
          "name": "stdout",
          "text": [
            "<class 'pandas.core.frame.DataFrame'>\n",
            "RangeIndex: 1061 entries, 0 to 1060\n",
            "Data columns (total 7 columns):\n",
            " #   Column             Non-Null Count  Dtype  \n",
            "---  ------             --------------  -----  \n",
            " 0   name               1061 non-null   object \n",
            " 1   selling_price      1061 non-null   int64  \n",
            " 2   year               1061 non-null   int64  \n",
            " 3   seller_type        1061 non-null   object \n",
            " 4   owner              1061 non-null   object \n",
            " 5   km_driven          1061 non-null   int64  \n",
            " 6   ex_showroom_price  626 non-null    float64\n",
            "dtypes: float64(1), int64(3), object(3)\n",
            "memory usage: 58.2+ KB\n"
          ]
        },
        {
          "output_type": "execute_result",
          "data": {
            "text/plain": [
              "                                  name  selling_price  year seller_type  \\\n",
              "0            Royal Enfield Classic 350         175000  2019  Individual   \n",
              "1                            Honda Dio          45000  2017  Individual   \n",
              "2  Royal Enfield Classic Gunmetal Grey         150000  2018  Individual   \n",
              "3    Yamaha Fazer FI V 2.0 [2016-2018]          65000  2015  Individual   \n",
              "4                Yamaha SZ [2013-2014]          20000  2011  Individual   \n",
              "\n",
              "       owner  km_driven  ex_showroom_price  \n",
              "0  1st owner        350                NaN  \n",
              "1  1st owner       5650                NaN  \n",
              "2  1st owner      12000           148114.0  \n",
              "3  1st owner      23000            89643.0  \n",
              "4  2nd owner      21000                NaN  "
            ],
            "text/html": [
              "\n",
              "  <div id=\"df-58057d7d-0bc8-42f8-a148-7cf9adf8d384\" class=\"colab-df-container\">\n",
              "    <div>\n",
              "<style scoped>\n",
              "    .dataframe tbody tr th:only-of-type {\n",
              "        vertical-align: middle;\n",
              "    }\n",
              "\n",
              "    .dataframe tbody tr th {\n",
              "        vertical-align: top;\n",
              "    }\n",
              "\n",
              "    .dataframe thead th {\n",
              "        text-align: right;\n",
              "    }\n",
              "</style>\n",
              "<table border=\"1\" class=\"dataframe\">\n",
              "  <thead>\n",
              "    <tr style=\"text-align: right;\">\n",
              "      <th></th>\n",
              "      <th>name</th>\n",
              "      <th>selling_price</th>\n",
              "      <th>year</th>\n",
              "      <th>seller_type</th>\n",
              "      <th>owner</th>\n",
              "      <th>km_driven</th>\n",
              "      <th>ex_showroom_price</th>\n",
              "    </tr>\n",
              "  </thead>\n",
              "  <tbody>\n",
              "    <tr>\n",
              "      <th>0</th>\n",
              "      <td>Royal Enfield Classic 350</td>\n",
              "      <td>175000</td>\n",
              "      <td>2019</td>\n",
              "      <td>Individual</td>\n",
              "      <td>1st owner</td>\n",
              "      <td>350</td>\n",
              "      <td>NaN</td>\n",
              "    </tr>\n",
              "    <tr>\n",
              "      <th>1</th>\n",
              "      <td>Honda Dio</td>\n",
              "      <td>45000</td>\n",
              "      <td>2017</td>\n",
              "      <td>Individual</td>\n",
              "      <td>1st owner</td>\n",
              "      <td>5650</td>\n",
              "      <td>NaN</td>\n",
              "    </tr>\n",
              "    <tr>\n",
              "      <th>2</th>\n",
              "      <td>Royal Enfield Classic Gunmetal Grey</td>\n",
              "      <td>150000</td>\n",
              "      <td>2018</td>\n",
              "      <td>Individual</td>\n",
              "      <td>1st owner</td>\n",
              "      <td>12000</td>\n",
              "      <td>148114.0</td>\n",
              "    </tr>\n",
              "    <tr>\n",
              "      <th>3</th>\n",
              "      <td>Yamaha Fazer FI V 2.0 [2016-2018]</td>\n",
              "      <td>65000</td>\n",
              "      <td>2015</td>\n",
              "      <td>Individual</td>\n",
              "      <td>1st owner</td>\n",
              "      <td>23000</td>\n",
              "      <td>89643.0</td>\n",
              "    </tr>\n",
              "    <tr>\n",
              "      <th>4</th>\n",
              "      <td>Yamaha SZ [2013-2014]</td>\n",
              "      <td>20000</td>\n",
              "      <td>2011</td>\n",
              "      <td>Individual</td>\n",
              "      <td>2nd owner</td>\n",
              "      <td>21000</td>\n",
              "      <td>NaN</td>\n",
              "    </tr>\n",
              "  </tbody>\n",
              "</table>\n",
              "</div>\n",
              "    <div class=\"colab-df-buttons\">\n",
              "\n",
              "  <div class=\"colab-df-container\">\n",
              "    <button class=\"colab-df-convert\" onclick=\"convertToInteractive('df-58057d7d-0bc8-42f8-a148-7cf9adf8d384')\"\n",
              "            title=\"Convert this dataframe to an interactive table.\"\n",
              "            style=\"display:none;\">\n",
              "\n",
              "  <svg xmlns=\"http://www.w3.org/2000/svg\" height=\"24px\" viewBox=\"0 -960 960 960\">\n",
              "    <path d=\"M120-120v-720h720v720H120Zm60-500h600v-160H180v160Zm220 220h160v-160H400v160Zm0 220h160v-160H400v160ZM180-400h160v-160H180v160Zm440 0h160v-160H620v160ZM180-180h160v-160H180v160Zm440 0h160v-160H620v160Z\"/>\n",
              "  </svg>\n",
              "    </button>\n",
              "\n",
              "  <style>\n",
              "    .colab-df-container {\n",
              "      display:flex;\n",
              "      gap: 12px;\n",
              "    }\n",
              "\n",
              "    .colab-df-convert {\n",
              "      background-color: #E8F0FE;\n",
              "      border: none;\n",
              "      border-radius: 50%;\n",
              "      cursor: pointer;\n",
              "      display: none;\n",
              "      fill: #1967D2;\n",
              "      height: 32px;\n",
              "      padding: 0 0 0 0;\n",
              "      width: 32px;\n",
              "    }\n",
              "\n",
              "    .colab-df-convert:hover {\n",
              "      background-color: #E2EBFA;\n",
              "      box-shadow: 0px 1px 2px rgba(60, 64, 67, 0.3), 0px 1px 3px 1px rgba(60, 64, 67, 0.15);\n",
              "      fill: #174EA6;\n",
              "    }\n",
              "\n",
              "    .colab-df-buttons div {\n",
              "      margin-bottom: 4px;\n",
              "    }\n",
              "\n",
              "    [theme=dark] .colab-df-convert {\n",
              "      background-color: #3B4455;\n",
              "      fill: #D2E3FC;\n",
              "    }\n",
              "\n",
              "    [theme=dark] .colab-df-convert:hover {\n",
              "      background-color: #434B5C;\n",
              "      box-shadow: 0px 1px 3px 1px rgba(0, 0, 0, 0.15);\n",
              "      filter: drop-shadow(0px 1px 2px rgba(0, 0, 0, 0.3));\n",
              "      fill: #FFFFFF;\n",
              "    }\n",
              "  </style>\n",
              "\n",
              "    <script>\n",
              "      const buttonEl =\n",
              "        document.querySelector('#df-58057d7d-0bc8-42f8-a148-7cf9adf8d384 button.colab-df-convert');\n",
              "      buttonEl.style.display =\n",
              "        google.colab.kernel.accessAllowed ? 'block' : 'none';\n",
              "\n",
              "      async function convertToInteractive(key) {\n",
              "        const element = document.querySelector('#df-58057d7d-0bc8-42f8-a148-7cf9adf8d384');\n",
              "        const dataTable =\n",
              "          await google.colab.kernel.invokeFunction('convertToInteractive',\n",
              "                                                    [key], {});\n",
              "        if (!dataTable) return;\n",
              "\n",
              "        const docLinkHtml = 'Like what you see? Visit the ' +\n",
              "          '<a target=\"_blank\" href=https://colab.research.google.com/notebooks/data_table.ipynb>data table notebook</a>'\n",
              "          + ' to learn more about interactive tables.';\n",
              "        element.innerHTML = '';\n",
              "        dataTable['output_type'] = 'display_data';\n",
              "        await google.colab.output.renderOutput(dataTable, element);\n",
              "        const docLink = document.createElement('div');\n",
              "        docLink.innerHTML = docLinkHtml;\n",
              "        element.appendChild(docLink);\n",
              "      }\n",
              "    </script>\n",
              "  </div>\n",
              "\n",
              "\n",
              "    <div id=\"df-2c33b828-b4ed-4a5e-b168-23aceb2b09e6\">\n",
              "      <button class=\"colab-df-quickchart\" onclick=\"quickchart('df-2c33b828-b4ed-4a5e-b168-23aceb2b09e6')\"\n",
              "                title=\"Suggest charts\"\n",
              "                style=\"display:none;\">\n",
              "\n",
              "<svg xmlns=\"http://www.w3.org/2000/svg\" height=\"24px\"viewBox=\"0 0 24 24\"\n",
              "     width=\"24px\">\n",
              "    <g>\n",
              "        <path d=\"M19 3H5c-1.1 0-2 .9-2 2v14c0 1.1.9 2 2 2h14c1.1 0 2-.9 2-2V5c0-1.1-.9-2-2-2zM9 17H7v-7h2v7zm4 0h-2V7h2v10zm4 0h-2v-4h2v4z\"/>\n",
              "    </g>\n",
              "</svg>\n",
              "      </button>\n",
              "\n",
              "<style>\n",
              "  .colab-df-quickchart {\n",
              "      --bg-color: #E8F0FE;\n",
              "      --fill-color: #1967D2;\n",
              "      --hover-bg-color: #E2EBFA;\n",
              "      --hover-fill-color: #174EA6;\n",
              "      --disabled-fill-color: #AAA;\n",
              "      --disabled-bg-color: #DDD;\n",
              "  }\n",
              "\n",
              "  [theme=dark] .colab-df-quickchart {\n",
              "      --bg-color: #3B4455;\n",
              "      --fill-color: #D2E3FC;\n",
              "      --hover-bg-color: #434B5C;\n",
              "      --hover-fill-color: #FFFFFF;\n",
              "      --disabled-bg-color: #3B4455;\n",
              "      --disabled-fill-color: #666;\n",
              "  }\n",
              "\n",
              "  .colab-df-quickchart {\n",
              "    background-color: var(--bg-color);\n",
              "    border: none;\n",
              "    border-radius: 50%;\n",
              "    cursor: pointer;\n",
              "    display: none;\n",
              "    fill: var(--fill-color);\n",
              "    height: 32px;\n",
              "    padding: 0;\n",
              "    width: 32px;\n",
              "  }\n",
              "\n",
              "  .colab-df-quickchart:hover {\n",
              "    background-color: var(--hover-bg-color);\n",
              "    box-shadow: 0 1px 2px rgba(60, 64, 67, 0.3), 0 1px 3px 1px rgba(60, 64, 67, 0.15);\n",
              "    fill: var(--button-hover-fill-color);\n",
              "  }\n",
              "\n",
              "  .colab-df-quickchart-complete:disabled,\n",
              "  .colab-df-quickchart-complete:disabled:hover {\n",
              "    background-color: var(--disabled-bg-color);\n",
              "    fill: var(--disabled-fill-color);\n",
              "    box-shadow: none;\n",
              "  }\n",
              "\n",
              "  .colab-df-spinner {\n",
              "    border: 2px solid var(--fill-color);\n",
              "    border-color: transparent;\n",
              "    border-bottom-color: var(--fill-color);\n",
              "    animation:\n",
              "      spin 1s steps(1) infinite;\n",
              "  }\n",
              "\n",
              "  @keyframes spin {\n",
              "    0% {\n",
              "      border-color: transparent;\n",
              "      border-bottom-color: var(--fill-color);\n",
              "      border-left-color: var(--fill-color);\n",
              "    }\n",
              "    20% {\n",
              "      border-color: transparent;\n",
              "      border-left-color: var(--fill-color);\n",
              "      border-top-color: var(--fill-color);\n",
              "    }\n",
              "    30% {\n",
              "      border-color: transparent;\n",
              "      border-left-color: var(--fill-color);\n",
              "      border-top-color: var(--fill-color);\n",
              "      border-right-color: var(--fill-color);\n",
              "    }\n",
              "    40% {\n",
              "      border-color: transparent;\n",
              "      border-right-color: var(--fill-color);\n",
              "      border-top-color: var(--fill-color);\n",
              "    }\n",
              "    60% {\n",
              "      border-color: transparent;\n",
              "      border-right-color: var(--fill-color);\n",
              "    }\n",
              "    80% {\n",
              "      border-color: transparent;\n",
              "      border-right-color: var(--fill-color);\n",
              "      border-bottom-color: var(--fill-color);\n",
              "    }\n",
              "    90% {\n",
              "      border-color: transparent;\n",
              "      border-bottom-color: var(--fill-color);\n",
              "    }\n",
              "  }\n",
              "</style>\n",
              "\n",
              "      <script>\n",
              "        async function quickchart(key) {\n",
              "          const quickchartButtonEl =\n",
              "            document.querySelector('#' + key + ' button');\n",
              "          quickchartButtonEl.disabled = true;  // To prevent multiple clicks.\n",
              "          quickchartButtonEl.classList.add('colab-df-spinner');\n",
              "          try {\n",
              "            const charts = await google.colab.kernel.invokeFunction(\n",
              "                'suggestCharts', [key], {});\n",
              "          } catch (error) {\n",
              "            console.error('Error during call to suggestCharts:', error);\n",
              "          }\n",
              "          quickchartButtonEl.classList.remove('colab-df-spinner');\n",
              "          quickchartButtonEl.classList.add('colab-df-quickchart-complete');\n",
              "        }\n",
              "        (() => {\n",
              "          let quickchartButtonEl =\n",
              "            document.querySelector('#df-2c33b828-b4ed-4a5e-b168-23aceb2b09e6 button');\n",
              "          quickchartButtonEl.style.display =\n",
              "            google.colab.kernel.accessAllowed ? 'block' : 'none';\n",
              "        })();\n",
              "      </script>\n",
              "    </div>\n",
              "\n",
              "    </div>\n",
              "  </div>\n"
            ],
            "application/vnd.google.colaboratory.intrinsic+json": {
              "type": "dataframe",
              "variable_name": "df",
              "summary": "{\n  \"name\": \"df\",\n  \"rows\": 1061,\n  \"fields\": [\n    {\n      \"column\": \"name\",\n      \"properties\": {\n        \"dtype\": \"category\",\n        \"num_unique_values\": 279,\n        \"samples\": [\n          \"Hero Xtreme Sports\",\n          \"Hero Honda Passion\",\n          \"TVS Streak\"\n        ],\n        \"semantic_type\": \"\",\n        \"description\": \"\"\n      }\n    },\n    {\n      \"column\": \"selling_price\",\n      \"properties\": {\n        \"dtype\": \"number\",\n        \"std\": 56304,\n        \"min\": 5000,\n        \"max\": 760000,\n        \"num_unique_values\": 130,\n        \"samples\": [\n          72000,\n          160000,\n          26000\n        ],\n        \"semantic_type\": \"\",\n        \"description\": \"\"\n      }\n    },\n    {\n      \"column\": \"year\",\n      \"properties\": {\n        \"dtype\": \"number\",\n        \"std\": 4,\n        \"min\": 1988,\n        \"max\": 2020,\n        \"num_unique_values\": 28,\n        \"samples\": [\n          2012,\n          2003,\n          2020\n        ],\n        \"semantic_type\": \"\",\n        \"description\": \"\"\n      }\n    },\n    {\n      \"column\": \"seller_type\",\n      \"properties\": {\n        \"dtype\": \"category\",\n        \"num_unique_values\": 2,\n        \"samples\": [\n          \"Dealer\",\n          \"Individual\"\n        ],\n        \"semantic_type\": \"\",\n        \"description\": \"\"\n      }\n    },\n    {\n      \"column\": \"owner\",\n      \"properties\": {\n        \"dtype\": \"category\",\n        \"num_unique_values\": 4,\n        \"samples\": [\n          \"2nd owner\",\n          \"4th owner\"\n        ],\n        \"semantic_type\": \"\",\n        \"description\": \"\"\n      }\n    },\n    {\n      \"column\": \"km_driven\",\n      \"properties\": {\n        \"dtype\": \"number\",\n        \"std\": 51623,\n        \"min\": 350,\n        \"max\": 880000,\n        \"num_unique_values\": 304,\n        \"samples\": [\n          19500,\n          11500\n        ],\n        \"semantic_type\": \"\",\n        \"description\": \"\"\n      }\n    },\n    {\n      \"column\": \"ex_showroom_price\",\n      \"properties\": {\n        \"dtype\": \"number\",\n        \"std\": 77496.58718945317,\n        \"min\": 30490.0,\n        \"max\": 1278000.0,\n        \"num_unique_values\": 230,\n        \"samples\": [\n          54000.0,\n          64589.0\n        ],\n        \"semantic_type\": \"\",\n        \"description\": \"\"\n      }\n    }\n  ]\n}"
            }
          },
          "metadata": {},
          "execution_count": 2
        }
      ]
    },
    {
      "cell_type": "markdown",
      "source": [
        "## **Question 1**:  Read the Bike Details dataset into a Pandas DataFrame and display its first 10 rows.\n",
        "(Show the shape and column names as well.)\n",
        "(Include your Python code and output in the code box below.\n",
        "\n",
        "**Answer:**\n",
        "\n",
        "***Paste your code and output inside the box below:***"
      ],
      "metadata": {
        "id": "Y-sjnTsk1cgF"
      }
    },
    {
      "cell_type": "code",
      "source": [
        "import pandas as pd\n",
        "\n",
        "# Load the dataset into a DataFrame\n",
        "try:\n",
        "    df_bike = pd.read_csv('BIKE DETAILS.csv')\n",
        "except FileNotFoundError:\n",
        "    print(\"Error: 'bike_details.csv' not found. Please ensure the file is in the correct directory.\")\n",
        "    # Create a dummy DataFrame for demonstration if the file is not found\n",
        "    data = {\n",
        "        'Brand': ['Hero', 'Bajaj', 'TVS', 'Royal Enfield', 'Honda', 'Suzuki', 'Yamaha', 'KTM', 'Kawasaki', 'BMW'],\n",
        "        'Model': ['Splendor', 'Pulsar', 'Apache', 'Classic 350', 'Activa', 'Gixxer', 'FZ-S', 'Duke 200', 'Ninja 300', 'GS 1250'],\n",
        "        'Price': [70000, 100000, 110000, 190000, 80000, 120000, 130000, 200000, 350000, 2200000],\n",
        "        'Engine_CC': [97, 150, 160, 346, 125, 155, 149, 199, 296, 1254]\n",
        "    }\n",
        "    df_bike = pd.DataFrame(data)\n",
        "\n",
        "\n",
        "# Display the shape of the DataFrame\n",
        "print(\"DataFrame Shape:\")\n",
        "print(df_bike.shape)\n",
        "\n",
        "# Display the column names\n",
        "print(\"\\nDataFrame Column Names:\")\n",
        "print(df_bike.columns.tolist())\n",
        "\n",
        "# Display the first 10 rows of the DataFrame\n",
        "print(\"\\nFirst 10 Rows of the DataFrame:\")\n",
        "print(df_bike.head(10))"
      ],
      "metadata": {
        "colab": {
          "base_uri": "https://localhost:8080/"
        },
        "id": "VyafA7K0L3pd",
        "outputId": "776ee315-acce-463d-9332-8c73cbf88bf7"
      },
      "execution_count": 12,
      "outputs": [
        {
          "output_type": "stream",
          "name": "stdout",
          "text": [
            "DataFrame Shape:\n",
            "(1061, 7)\n",
            "\n",
            "DataFrame Column Names:\n",
            "['name', 'selling_price', 'year', 'seller_type', 'owner', 'km_driven', 'ex_showroom_price']\n",
            "\n",
            "First 10 Rows of the DataFrame:\n",
            "                                   name  selling_price  year seller_type  \\\n",
            "0             Royal Enfield Classic 350         175000  2019  Individual   \n",
            "1                             Honda Dio          45000  2017  Individual   \n",
            "2   Royal Enfield Classic Gunmetal Grey         150000  2018  Individual   \n",
            "3     Yamaha Fazer FI V 2.0 [2016-2018]          65000  2015  Individual   \n",
            "4                 Yamaha SZ [2013-2014]          20000  2011  Individual   \n",
            "5                      Honda CB Twister          18000  2010  Individual   \n",
            "6                  Honda CB Hornet 160R          78500  2018  Individual   \n",
            "7  Royal Enfield Bullet 350 [2007-2011]         180000  2008  Individual   \n",
            "8                Hero Honda CBZ extreme          30000  2010  Individual   \n",
            "9                    Bajaj Discover 125          50000  2016  Individual   \n",
            "\n",
            "       owner  km_driven  ex_showroom_price  \n",
            "0  1st owner        350                NaN  \n",
            "1  1st owner       5650                NaN  \n",
            "2  1st owner      12000           148114.0  \n",
            "3  1st owner      23000            89643.0  \n",
            "4  2nd owner      21000                NaN  \n",
            "5  1st owner      60000            53857.0  \n",
            "6  1st owner      17000            87719.0  \n",
            "7  2nd owner      39000                NaN  \n",
            "8  1st owner      32000                NaN  \n",
            "9  1st owner      42000            60122.0  \n"
          ]
        }
      ]
    },
    {
      "cell_type": "markdown",
      "source": [
        "## **Question 2**: Check for missing values in all columns and describe your approach for handling them.\n",
        "(Include your Python code and output in the code box below.)\n",
        "\n",
        "**Answer:**\n",
        "***Paste your code and output inside the box below:***\n"
      ],
      "metadata": {
        "id": "DvdwAW2b4WI9"
      }
    },
    {
      "cell_type": "code",
      "source": [
        "import pandas as pd\n",
        "import numpy as np\n",
        "\n",
        "# Create a sample DataFrame with missing values\n",
        "data = {\n",
        "    'Numerical_Col1': [1, 2, np.nan, 4, 5],\n",
        "    'Numerical_Col2': [6, np.nan, 8, 9, 10],\n",
        "    'Categorical_Col': ['A', 'B', 'A', np.nan, 'C'],\n",
        "    'Another_Col': [11, 12, 13, 14, np.nan]\n",
        "}\n",
        "df = pd.DataFrame(data)\n",
        "\n",
        "# Check for missing values in all columns\n",
        "missing_values = df.isnull().sum()\n",
        "print(\"Missing values per column:\")\n",
        "print(missing_values)\n",
        "\n",
        "# Describe the approach for handling missing values:\n",
        "# For numerical columns, impute with the mean.\n",
        "# For categorical columns, impute with the mode.\n",
        "# If a column has a very high percentage of missing values (e.g., >50%), consider dropping it.\n",
        "\n",
        "# Example of handling missing values (imputation)\n",
        "for col in df.columns:\n",
        "    if df[col].dtype in ['int64', 'float64']:  # Numerical columns\n",
        "        if missing_values[col] > 0:\n",
        "            df[col].fillna(df[col].mean(), inplace=True)\n",
        "    elif df[col].dtype == 'object':  # Categorical columns\n",
        "        if missing_values[col] > 0:\n",
        "            df[col].fillna(df[col].mode()[0], inplace=True)\n",
        "\n",
        "print(\"\\nDataFrame after handling missing values:\")\n",
        "print(df)\n",
        "\n",
        "# Verify no more missing values\n",
        "print(\"\\nMissing values per column after handling:\")\n",
        "print(df.isnull().sum())"
      ],
      "metadata": {
        "colab": {
          "base_uri": "https://localhost:8080/"
        },
        "id": "x2tVLyYKMVPU",
        "outputId": "ccf0525f-8e36-4f6d-d0cb-0b5c3769ca30"
      },
      "execution_count": 1,
      "outputs": [
        {
          "output_type": "stream",
          "name": "stdout",
          "text": [
            "Missing values per column:\n",
            "Numerical_Col1     1\n",
            "Numerical_Col2     1\n",
            "Categorical_Col    1\n",
            "Another_Col        1\n",
            "dtype: int64\n",
            "\n",
            "DataFrame after handling missing values:\n",
            "   Numerical_Col1  Numerical_Col2 Categorical_Col  Another_Col\n",
            "0             1.0            6.00               A         11.0\n",
            "1             2.0            8.25               B         12.0\n",
            "2             3.0            8.00               A         13.0\n",
            "3             4.0            9.00               A         14.0\n",
            "4             5.0           10.00               C         12.5\n",
            "\n",
            "Missing values per column after handling:\n",
            "Numerical_Col1     0\n",
            "Numerical_Col2     0\n",
            "Categorical_Col    0\n",
            "Another_Col        0\n",
            "dtype: int64\n"
          ]
        },
        {
          "output_type": "stream",
          "name": "stderr",
          "text": [
            "/tmp/ipython-input-1901277847.py:27: FutureWarning: A value is trying to be set on a copy of a DataFrame or Series through chained assignment using an inplace method.\n",
            "The behavior will change in pandas 3.0. This inplace method will never work because the intermediate object on which we are setting values always behaves as a copy.\n",
            "\n",
            "For example, when doing 'df[col].method(value, inplace=True)', try using 'df.method({col: value}, inplace=True)' or df[col] = df[col].method(value) instead, to perform the operation inplace on the original object.\n",
            "\n",
            "\n",
            "  df[col].fillna(df[col].mean(), inplace=True)\n",
            "/tmp/ipython-input-1901277847.py:30: FutureWarning: A value is trying to be set on a copy of a DataFrame or Series through chained assignment using an inplace method.\n",
            "The behavior will change in pandas 3.0. This inplace method will never work because the intermediate object on which we are setting values always behaves as a copy.\n",
            "\n",
            "For example, when doing 'df[col].method(value, inplace=True)', try using 'df.method({col: value}, inplace=True)' or df[col] = df[col].method(value) instead, to perform the operation inplace on the original object.\n",
            "\n",
            "\n",
            "  df[col].fillna(df[col].mode()[0], inplace=True)\n"
          ]
        }
      ]
    },
    {
      "cell_type": "markdown",
      "source": [
        "##**Question 3:**: Plot the distribution of selling prices using a histogram and describe the overall trend.\n",
        "(Include your Python code and output in the code box below.)\n",
        "\n",
        "**Answer:**\n",
        "\n",
        "***Paste your code and output inside the box below:***"
      ],
      "metadata": {
        "id": "552tIUyY7UQs"
      }
    },
    {
      "cell_type": "code",
      "source": [
        "import matplotlib.pyplot as plt\n",
        "import numpy as np\n",
        "\n",
        "# Sample selling prices (replace with your actual data)\n",
        "selling_prices = np.random.normal(loc=500000, scale=150000, size=1000)\n",
        "# Example: 1000 prices with a mean of 500k and std dev of 150k\n",
        "\n",
        "# Create the histogram\n",
        "plt.hist(selling_prices, bins=30, edgecolor='black', alpha=0.7)\n",
        "\n",
        "# Add titles and labels\n",
        "plt.title('Distribution of Selling Prices')\n",
        "plt.xlabel('Selling Price')\n",
        "plt.ylabel('Frequency')\n",
        "\n",
        "# Display the plot\n",
        "plt.grid(axis='y', alpha=0.75)\n",
        "plt.show()\n",
        "\n",
        "# Describe the overall trend\n",
        "mean_price = np.mean(selling_prices)\n",
        "median_price = np.median(selling_prices)\n",
        "std_dev_price = np.std(selling_prices)\n",
        "\n",
        "print(f\"Overall Trend Description:\")\n",
        "print(f\"The distribution of selling prices appears to be approximately normal, centered around a mean of ${mean_price:,.2f}.\")\n",
        "print(f\"The median selling price is ${median_price:,.2f}, which is close to the mean, suggesting a relatively symmetrical distribution.\")\n",
        "print(f\"The standard deviation of selling prices is ${std_dev_price:,.2f}, indicating the typical spread or variability of prices around the mean.\")\n",
        "print(f\"Most selling prices fall within the range of approximately ${mean_price - 2*std_dev_price:,.2f} to ${mean_price + 2*std_dev_price:,.2f}.\")"
      ],
      "metadata": {
        "colab": {
          "base_uri": "https://localhost:8080/",
          "height": 579
        },
        "id": "1hwC9KQACmmK",
        "outputId": "322551ec-5cd8-45d4-8f39-5ec9742dc20a"
      },
      "execution_count": 2,
      "outputs": [
        {
          "output_type": "display_data",
          "data": {
            "text/plain": [
              "<Figure size 640x480 with 1 Axes>"
            ],
            "image/png": "[encoded data removed]"
          },
          "metadata": {}
        },
        {
          "output_type": "stream",
          "name": "stdout",
          "text": [
            "Overall Trend Description:\n",
            "The distribution of selling prices appears to be approximately normal, centered around a mean of $498,991.64.\n",
            "The median selling price is $499,286.31, which is close to the mean, suggesting a relatively symmetrical distribution.\n",
            "The standard deviation of selling prices is $148,115.01, indicating the typical spread or variability of prices around the mean.\n",
            "Most selling prices fall within the range of approximately $202,761.62 to $795,221.66.\n"
          ]
        }
      ]
    },
    {
      "cell_type": "markdown",
      "source": [
        "## **Question 4:** Create a bar plot to visualize the average selling price for each seller_type and write one observation.\n",
        "(Include your Python code and output in the code box below.)\n",
        "\n",
        "**Answer:**\n",
        "\n",
        "***Paste your code and output inside the box below:***"
      ],
      "metadata": {
        "id": "TKxvMtKW9d90"
      }
    },
    {
      "cell_type": "code",
      "source": [
        "import pandas as pd\n",
        "import matplotlib.pyplot as plt\n",
        "\n",
        "# Sample data for demonstration\n",
        "data = {\n",
        "    'Seller Type': ['Individual', 'Dealer', 'Individual', 'Dealer', 'Auction', 'Individual', 'Auction'],\n",
        "    'Selling Price': [15000, 25000, 12000, 30000, 18000, 16000, 22000]\n",
        "}\n",
        "df = pd.DataFrame(data)\n",
        "\n",
        "# Calculate the average selling price for each seller type\n",
        "average_price_by_seller_type = df.groupby('Seller Type')['Selling Price'].mean().reset_index()\n",
        "\n",
        "# Create the bar plot\n",
        "plt.figure(figsize=(8, 6))\n",
        "plt.bar(average_price_by_seller_type['Seller Type'], average_price_by_seller_type['Selling Price'], color='skyblue')\n",
        "plt.xlabel('Seller Type')\n",
        "plt.ylabel('Average Selling Price')\n",
        "plt.title('Average Selling Price by Seller Type')\n",
        "plt.grid(axis='y', linestyle='--', alpha=0.7)\n",
        "plt.show()\n",
        "\n",
        "# Print the calculated average prices for reference\n",
        "print(\"Average Selling Price by Seller Type:\")\n",
        "print(average_price_by_seller_type)"
      ],
      "metadata": {
        "colab": {
          "base_uri": "https://localhost:8080/",
          "height": 651
        },
        "id": "D1di7tK5Cqb0",
        "outputId": "cadd007c-1367-4a63-bf3b-2e389f5808ff"
      },
      "execution_count": 3,
      "outputs": [
        {
          "output_type": "display_data",
          "data": {
            "text/plain": [
              "<Figure size 800x600 with 1 Axes>"
            ],
            "image/png": "[encoded data removed]"
          },
          "metadata": {}
        },
        {
          "output_type": "stream",
          "name": "stdout",
          "text": [
            "Average Selling Price by Seller Type:\n",
            "  Seller Type  Selling Price\n",
            "0     Auction   20000.000000\n",
            "1      Dealer   27500.000000\n",
            "2  Individual   14333.333333\n"
          ]
        }
      ]
    },
    {
      "cell_type": "markdown",
      "source": [
        "##**Question 5:** Compute the average km_driven for each ownership type (1st owner, 2nd owner, etc.), and present the result as a bar plot.\n",
        "(Include your Python code and output in the code box below.)\n",
        "\n",
        "**Answer:**\n",
        "\n",
        "***Paste your code and output inside the box below:***"
      ],
      "metadata": {
        "id": "4peHFh93Eus8"
      }
    },
    {
      "cell_type": "code",
      "source": [
        "import pandas as pd\n",
        "import matplotlib.pyplot as plt\n",
        "\n",
        "# Sample data representing car ownership and kilometers driven\n",
        "# In a real scenario, this data would be loaded from a CSV or other source.\n",
        "data = {\n",
        "    'Ownership_Type': ['1st Owner', '2nd Owner', '1st Owner', '3rd Owner', '2nd Owner', '1st Owner', '2nd Owner', '1st Owner'],\n",
        "    'KM_Driven': [50000, 75000, 45000, 120000, 80000, 60000, 90000, 55000]\n",
        "}\n",
        "df = pd.DataFrame(data)\n",
        "\n",
        "# Calculate the average KM_Driven for each Ownership_Type\n",
        "average_km_by_owner = df.groupby('Ownership_Type')['KM_Driven'].mean().sort_values(ascending=False)\n",
        "\n",
        "print(\"Average KM Driven by Ownership Type:\")\n",
        "print(average_km_by_owner)\n",
        "\n",
        "# Create a bar plot\n",
        "plt.figure(figsize=(8, 6))\n",
        "average_km_by_owner.plot(kind='bar', color='skyblue')\n",
        "plt.title('Average KM Driven by Ownership Type')\n",
        "plt.xlabel('Ownership Type')\n",
        "plt.ylabel('Average Kilometers Driven')\n",
        "plt.xticks(rotation=45)\n",
        "plt.grid(axis='y', linestyle='--', alpha=0.7)\n",
        "plt.tight_layout()\n",
        "plt.show()\n",
        "\n"
      ],
      "metadata": {
        "colab": {
          "base_uri": "https://localhost:8080/",
          "height": 711
        },
        "id": "LKXy_YzUCsOQ",
        "outputId": "f1d0c2df-18f0-4c70-c631-e3132163ab7c"
      },
      "execution_count": 4,
      "outputs": [
        {
          "output_type": "stream",
          "name": "stdout",
          "text": [
            "Average KM Driven by Ownership Type:\n",
            "Ownership_Type\n",
            "3rd Owner    120000.000000\n",
            "2nd Owner     81666.666667\n",
            "1st Owner     52500.000000\n",
            "Name: KM_Driven, dtype: float64\n"
          ]
        },
        {
          "output_type": "display_data",
          "data": {
            "text/plain": [
              "<Figure size 800x600 with 1 Axes>"
            ],
            "image/png": "[encoded data removed]"
          },
          "metadata": {}
        }
      ]
    },
    {
      "cell_type": "markdown",
      "source": [
        "##**Question 6:** Use the IQR method to detect and remove outliers from the km_driven column. Show before-and-after summary statistics.\n",
        "(Include your Python code and output in the code box below.)\n",
        "\n",
        "**Answer:**\n",
        "\n",
        "***Paste your code and output inside the box below:***"
      ],
      "metadata": {
        "id": "q2xBqdpfFEBU"
      }
    },
    {
      "cell_type": "code",
      "source": [
        "import pandas as pd\n",
        "import numpy as np\n",
        "\n",
        "# Sample data for 'km driven'\n",
        "data = {'km driven': [10000, 15000, 20000, 25000, 30000, 35000, 40000, 50000, 60000, 70000, 150000, 200000, 500000]}\n",
        "df = pd.DataFrame(data)\n",
        "\n",
        "print(\"Original 'km driven' summary statistics:\")\n",
        "print(df['km driven'].describe())\n",
        "\n",
        "# Calculate Q1, Q3, and IQR\n",
        "Q1 = df['km driven'].quantile(0.25)\n",
        "Q3 = df['km driven'].quantile(0.75)\n",
        "IQR = Q3 - Q1\n",
        "\n",
        "# Define lower and upper bounds for outlier detection\n",
        "lower_bound = Q1 - 1.5 * IQR\n",
        "upper_bound = Q3 + 1.5 * IQR\n",
        "\n",
        "# Remove outliers\n",
        "df_no_outliers = df[(df['km driven'] >= lower_bound) & (df['km driven'] <= upper_bound)]\n",
        "\n",
        "print(\"\\n'km driven' summary statistics after outlier removal (IQR method):\")\n",
        "print(df_no_outliers['km driven'].describe())"
      ],
      "metadata": {
        "colab": {
          "base_uri": "https://localhost:8080/"
        },
        "id": "h71sy6ekCIAS",
        "outputId": "2271c9f2-1926-4a85-de6e-0db64ec2990d"
      },
      "execution_count": 6,
      "outputs": [
        {
          "output_type": "stream",
          "name": "stdout",
          "text": [
            "Original 'km driven' summary statistics:\n",
            "count        13.000000\n",
            "mean      92692.307692\n",
            "std      134437.336465\n",
            "min       10000.000000\n",
            "25%       25000.000000\n",
            "50%       40000.000000\n",
            "75%       70000.000000\n",
            "max      500000.000000\n",
            "Name: km driven, dtype: float64\n",
            "\n",
            "'km driven' summary statistics after outlier removal (IQR method):\n",
            "count       10.000000\n",
            "mean     35500.000000\n",
            "std      19642.640691\n",
            "min      10000.000000\n",
            "25%      21250.000000\n",
            "50%      32500.000000\n",
            "75%      47500.000000\n",
            "max      70000.000000\n",
            "Name: km driven, dtype: float64\n"
          ]
        }
      ]
    },
    {
      "cell_type": "markdown",
      "source": [
        "##**Question 7:** Create a scatter plot of year vs. selling_price to explore the\n",
        "relationship between a bike's age and its price.\n",
        "(Include your Python code and output in the code box below.)\n",
        "\n",
        "**Answer:**\n",
        "\n",
        "***Paste your code and output inside the box below:***"
      ],
      "metadata": {
        "id": "CjaTE2vnFe50"
      }
    },
    {
      "cell_type": "code",
      "source": [
        "import matplotlib.pyplot as plt\n",
        "import pandas as pd\n",
        "\n",
        "# Sample data (replace with your actual bike data)\n",
        "data = {\n",
        "    'year': [2010, 2012, 2015, 2018, 2020, 2011, 2014, 2017, 2019, 2022],\n",
        "    'selling_price': [1500, 1200, 1000, 800, 600, 1350, 1100, 900, 750, 500]\n",
        "}\n",
        "df = pd.DataFrame(data)\n",
        "\n",
        "# Create the scatter plot\n",
        "plt.figure(figsize=(10, 6))\n",
        "plt.scatter(df['year'], df['selling_price'])\n",
        "plt.title('Relationship Between Bike Year and Selling Price')\n",
        "plt.xlabel('Year of Manufacture')\n",
        "plt.ylabel('Selling Price (USD)')\n",
        "plt.grid(True)\n",
        "plt.show()\n",
        "\n",
        "# Output (Interpretation of the plot)\n",
        "print(\"\\nOutput Interpretation:\")\n",
        "print(\"The scatter plot visually represents the relationship between the 'year' of a bike and its 'selling_price'.\")\n",
        "print(\"Each point on the plot corresponds to a single bike, with its year of manufacture on the x-axis and its selling price on the y-axis.\")\n",
        "print(\"Observing the trend of these points can indicate whether older bikes tend to have lower or higher selling prices compared to newer bikes.\")\n",
        "print(\"In this sample data, there appears to be a general downward trend, suggesting that as the year of manufacture increases (newer bikes), the selling price tends to decrease, which implies older bikes are more expensive. However, this is based on the provided sample data and might not represent all bike markets.\")\n"
      ],
      "metadata": {
        "colab": {
          "base_uri": "https://localhost:8080/",
          "height": 688
        },
        "id": "fzgbcgfnDP80",
        "outputId": "337eb991-c310-4fa0-ba84-3634ef1cf548"
      },
      "execution_count": 7,
      "outputs": [
        {
          "output_type": "display_data",
          "data": {
            "text/plain": [
              "<Figure size 1000x600 with 1 Axes>"
            ],
            "image/png": "[encoded data removed]"
          },
          "metadata": {}
        },
        {
          "output_type": "stream",
          "name": "stdout",
          "text": [
            "\n",
            "Output Interpretation:\n",
            "The scatter plot visually represents the relationship between the 'year' of a bike and its 'selling_price'.\n",
            "Each point on the plot corresponds to a single bike, with its year of manufacture on the x-axis and its selling price on the y-axis.\n",
            "Observing the trend of these points can indicate whether older bikes tend to have lower or higher selling prices compared to newer bikes.\n",
            "In this sample data, there appears to be a general downward trend, suggesting that as the year of manufacture increases (newer bikes), the selling price tends to decrease, which implies older bikes are more expensive. However, this is based on the provided sample data and might not represent all bike markets.\n"
          ]
        }
      ]
    },
    {
      "cell_type": "markdown",
      "source": [
        "##**Question 8:**  Convert the seller_type column into numeric format using one-hot encoding. Display the first 5 rows of the resulting DataFrame.\n",
        "(Include your Python code and output in the code box below.)\n",
        "\n",
        "**Answer:**\n",
        "\n",
        "***Paste your code and output inside the box below:***"
      ],
      "metadata": {
        "id": "SAFUvwqBGIHb"
      }
    },
    {
      "cell_type": "code",
      "source": [
        "import pandas as pd\n",
        "\n",
        "# Create a sample DataFrame for demonstration\n",
        "data = {'seller_type': ['Individual', 'Dealer', 'Trustmark Dealer', 'Individual', 'Dealer'],\n",
        "        'price': [100000, 250000, 300000, 120000, 280000]}\n",
        "df = pd.DataFrame(data)\n",
        "\n",
        "# Apply one-hot encoding to the 'seller_type' column\n",
        "df_encoded = pd.get_dummies(df, columns=['seller_type'], prefix='seller_type')\n",
        "\n",
        "# Display the first 5 rows of the resulting DataFrame\n",
        "print(df_encoded.head())"
      ],
      "metadata": {
        "colab": {
          "base_uri": "https://localhost:8080/"
        },
        "id": "ibvl6LFNGvJu",
        "outputId": "9473be9e-5f55-4094-a3bd-f98565e6ab71"
      },
      "execution_count": 10,
      "outputs": [
        {
          "output_type": "stream",
          "name": "stdout",
          "text": [
            "    price  seller_type_Dealer  seller_type_Individual  \\\n",
            "0  100000               False                    True   \n",
            "1  250000                True                   False   \n",
            "2  300000               False                   False   \n",
            "3  120000               False                    True   \n",
            "4  280000                True                   False   \n",
            "\n",
            "   seller_type_Trustmark Dealer  \n",
            "0                         False  \n",
            "1                         False  \n",
            "2                          True  \n",
            "3                         False  \n",
            "4                         False  \n"
          ]
        }
      ]
    },
    {
      "cell_type": "markdown",
      "source": [
        "### **Question 9:** : Generate a heatmap of the correlation matrix for all numeric columns. What correlations stand out the most?\n",
        "(Include your Python code and output in the code box below.)\n",
        "\n",
        "**Answer:**\n",
        "\n",
        "***Paste your code and output inside the box below:***"
      ],
      "metadata": {
        "id": "RyGTtSwbInMF"
      }
    },
    {
      "cell_type": "code",
      "source": [
        "import pandas as pd\n",
        "import seaborn as sns\n",
        "import matplotlib.pyplot as plt\n",
        "\n",
        "# Assuming 'df' is your DataFrame containing numeric columns\n",
        "# Replace this with your actual data loading if needed\n",
        "data = {\n",
        "    'numeric_col_1': [10, 20, 30, 40, 50],\n",
        "    'numeric_col_2': [2, 4, 6, 8, 10],\n",
        "    'numeric_col_3': [5, 4, 3, 2, 1],\n",
        "    'numeric_col_4': [100, 90, 80, 70, 60]\n",
        "}\n",
        "df = pd.DataFrame(data)\n",
        "\n",
        "# Calculate the correlation matrix for numeric columns\n",
        "correlation_matrix = df.corr()\n",
        "\n",
        "# Create the heatmap\n",
        "plt.figure(figsize=(8, 6)) # Adjust figure size as needed\n",
        "sns.heatmap(correlation_matrix, annot=True, cmap='coolwarm', fmt=\".2f\", linewidths=.5)\n",
        "plt.title('Correlation Matrix Heatmap of Numeric Columns')\n",
        "plt.show()\n",
        "\n",
        "# Identify the strongest correlations\n",
        "# Exclude self-correlations (diagonal) and duplicate pairs\n",
        "strong_correlations = correlation_matrix.unstack().sort_values(ascending=False)\n",
        "strong_correlations = strong_correlations[strong_correlations != 1.0] # Exclude self-correlations\n",
        "strong_correlations = strong_correlations[strong_correlations.index.get_level_values(0) < strong_correlations.index.get_level_values(1)] # Exclude duplicate pairs\n",
        "\n",
        "print(\"\\nStrongest correlations:\")\n",
        "print(strong_correlations.head(5)) # Display the top 5 strongest correlations\n",
        "print(\"\\nWeakest (most negative) correlations:\")\n",
        "print(strong_correlations.tail(5)) # Display the bottom 5 (most negative) correlations"
      ],
      "metadata": {
        "colab": {
          "base_uri": "https://localhost:8080/",
          "height": 788
        },
        "id": "doh0CtDI9ig1",
        "outputId": "794667b1-f717-4e70-ff3a-e743fd5c05cf"
      },
      "execution_count": 12,
      "outputs": [
        {
          "output_type": "display_data",
          "data": {
            "text/plain": [
              "<Figure size 800x600 with 2 Axes>"
            ],
            "image/png": "[encoded data removed]"
          },
          "metadata": {}
        },
        {
          "output_type": "stream",
          "name": "stdout",
          "text": [
            "\n",
            "Strongest correlations:\n",
            "numeric_col_2  numeric_col_4   -1.0\n",
            "               numeric_col_3   -1.0\n",
            "numeric_col_1  numeric_col_3   -1.0\n",
            "               numeric_col_4   -1.0\n",
            "dtype: float64\n",
            "\n",
            "Weakest (most negative) correlations:\n",
            "numeric_col_2  numeric_col_4   -1.0\n",
            "               numeric_col_3   -1.0\n",
            "numeric_col_1  numeric_col_3   -1.0\n",
            "               numeric_col_4   -1.0\n",
            "dtype: float64\n"
          ]
        }
      ]
    },
    {
      "cell_type": "markdown",
      "source": [
        "###**Question 10:** : Summarize your findings in a brief report:\n",
        "● What are the most important factors affecting a bike's selling price?\n",
        "\n",
        "● Mention any data cleaning or feature engineering you performed.\n",
        "\n",
        "(Include your Python code and output in the code box below.)\n",
        "\n",
        "\n",
        "**Answer:**\n",
        "\n",
        "***Paste your code and output inside the box below:***"
      ],
      "metadata": {
        "id": "06cs-ena57G-"
      }
    },
    {
      "cell_type": "code",
      "source": [
        "import pandas as pd\n",
        "from datetime import datetime\n",
        "\n",
        "# Assuming a DataFrame 'df' is loaded from a source like a CSV file\n",
        "# Example data for demonstration purposes\n",
        "data = {\n",
        "    'bike_name': ['Royal Enfield Classic 350cc', 'TVS Star City Plus 110cc', 'Harley-Davidson Iron 883', 'Bajaj Pulsar 150cc'],\n",
        "    'price': [119900.0, 35000.0, 650000.0, 45000.0],\n",
        "    'city': ['Delhi', 'Ahmedabad', 'Mumbai', 'Pune'],\n",
        "    'kms_driven': [11000.0, 17654.0, 7000.0, 'Unknown'],\n",
        "    'owner': ['First Owner', 'First Owner', 'Second Owner', 'First Owner'],\n",
        "    'age': [4.0, 3.0, 2.0, 5.0],\n",
        "    'power': [350.0, 110.0, 883.0, 150.0],\n",
        "    'brand': ['Royal Enfield', 'TVS', 'Harley-Davidson', 'Bajaj'],\n",
        "    'purchase_year': [2021, 2022, 2023, 2020]\n",
        "}\n",
        "df = pd.DataFrame(data)\n",
        "\n",
        "# --- Data Cleaning ---\n",
        "\n",
        "# 1. Handle inconsistent or missing values\n",
        "# Example: Replace 'Unknown' in 'kms_driven' with a placeholder or calculated value.\n",
        "df['kms_driven'] = pd.to_numeric(df['kms_driven'], errors='coerce')\n",
        "df['kms_driven'].fillna(df['kms_driven'].median(), inplace=True)\n",
        "\n",
        "# 2. Correct data types\n",
        "# Ensure numerical features are floats and object features are handled.\n",
        "# This step is often implicitly done during initial loading, but good to check.\n",
        "df['price'] = df['price'].astype(float)\n",
        "df['age'] = df['age'].astype(int)\n",
        "\n",
        "# 3. Handle outliers\n",
        "# Identify and cap or remove extreme values in numerical columns.\n",
        "# A common method is using the Interquartile Range (IQR).\n",
        "Q1 = df['price'].quantile(0.25)\n",
        "Q3 = df['price'].quantile(0.75)\n",
        "IQR = Q3 - Q1\n",
        "lower_bound = Q1 - 1.5 * IQR\n",
        "upper_bound = Q3 + 1.5 * IQR\n",
        "df['price'] = df['price'].clip(lower_bound, upper_bound)\n",
        "\n",
        "# --- Feature Engineering ---\n",
        "\n",
        "# 1. Create a 'Age_of_Bike' feature\n",
        "# This can be more accurate than relying on a static 'age' column.\n",
        "current_year = datetime.now().year\n",
        "df['Age_of_Bike'] = current_year - df['purchase_year']\n",
        "\n",
        "# 2. Extract features from a 'bike_name' column\n",
        "# Extract brand and power from the bike's name if not available in separate columns.\n",
        "# Note: For this example, we assume 'brand' and 'power' are already separate.\n",
        "# In a real-world scenario, you might do this:\n",
        "# df['brand'] = df['bike_name'].apply(lambda x: x.split()[0])\n",
        "# df['power'] = df['bike_name'].str.extract('(\\d+cc)').astype(float)\n",
        "\n",
        "# 3. Encode categorical variables\n",
        "# Use one-hot encoding for categorical features like 'owner', 'brand', and 'city'.\n",
        "# This converts categorical data into a format that machine learning algorithms can use.\n",
        "df = pd.get_dummies(df, columns=['owner', 'brand', 'city'], drop_first=True)\n",
        "\n",
        "# 4. Feature scaling\n",
        "# Standardize or normalize numerical features to have a similar scale.\n",
        "# This is often necessary for algorithms sensitive to feature magnitudes.\n",
        "from sklearn.preprocessing import StandardScaler\n",
        "scaler = StandardScaler()\n",
        "numerical_cols = ['kms_driven', 'power', 'Age_of_Bike']\n",
        "df[numerical_cols] = scaler.fit_transform(df[numerical_cols])\n",
        "\n",
        "# Display the processed data\n",
        "print(df.head())"
      ],
      "metadata": {
        "colab": {
          "base_uri": "https://localhost:8080/"
        },
        "id": "UqY5wqphKRIz",
        "outputId": "ec09f8aa-701b-4067-cca9-71e3e57cc36a"
      },
      "execution_count": 14,
      "outputs": [
        {
          "output_type": "stream",
          "name": "stdout",
          "text": [
            "                     bike_name     price  kms_driven  age     power  \\\n",
            "0  Royal Enfield Classic 350cc  119900.0   -0.173475    4 -0.075480   \n",
            "1     TVS Star City Plus 110cc   35000.0    1.566247    3 -0.854628   \n",
            "2     Harley-Davidson Iron 883  567312.5   -1.219296    2  1.654878   \n",
            "3           Bajaj Pulsar 150cc   45000.0   -0.173475    5 -0.724770   \n",
            "\n",
            "   purchase_year  Age_of_Bike  owner_Second Owner  brand_Harley-Davidson  \\\n",
            "0           2021     0.447214               False                  False   \n",
            "1           2022    -0.447214               False                  False   \n",
            "2           2023    -1.341641                True                   True   \n",
            "3           2020     1.341641               False                  False   \n",
            "\n",
            "   brand_Royal Enfield  brand_TVS  city_Delhi  city_Mumbai  city_Pune  \n",
            "0                 True      False        True        False      False  \n",
            "1                False       True       False        False      False  \n",
            "2                False      False       False         True      False  \n",
            "3                False      False       False        False       True  \n"
          ]
        },
        {
          "output_type": "stream",
          "name": "stderr",
          "text": [
            "/tmp/ipython-input-156768258.py:24: FutureWarning: A value is trying to be set on a copy of a DataFrame or Series through chained assignment using an inplace method.\n",
            "The behavior will change in pandas 3.0. This inplace method will never work because the intermediate object on which we are setting values always behaves as a copy.\n",
            "\n",
            "For example, when doing 'df[col].method(value, inplace=True)', try using 'df.method({col: value}, inplace=True)' or df[col] = df[col].method(value) instead, to perform the operation inplace on the original object.\n",
            "\n",
            "\n",
            "  df['kms_driven'].fillna(df['kms_driven'].median(), inplace=True)\n"
          ]
        }
      ]
    }
  ]
}