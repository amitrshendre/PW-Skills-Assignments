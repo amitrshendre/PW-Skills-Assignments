{
  "nbformat": 4,
  "nbformat_minor": 0,
  "metadata": {
    "colab": {
      "provenance": []
    },
    "kernelspec": {
      "name": "python3",
      "display_name": "Python 3"
    },
    "language_info": {
      "name": "python"
    }
  },
  "cells": [
    {
      "cell_type": "markdown",
      "source": [
        "#**Machine Learning Introduction Assignment**"
      ],
      "metadata": {
        "id": "ySsOWTt_0q1Y"
      }
    },
    {
      "cell_type": "markdown",
      "source": [
        "## **Question 1**: Explain the differences between AI, ML, Deep Learning (DL), and Data Science (DS).\n",
        "\n",
        "**Answer:**\n",
        "\n",
        "### **Artificial Intelligence (AI):**\n",
        "The largest and oldest concept. It is the broad goal of creating intelligent systems that can mimic human-like intelligence to solve complex problems, such as reasoning, learning, and planning.\n",
        "\n",
        "**Analogy:** The entire concept of building a \"smart robot\" that can perform any task a human can, including perception and language.\n",
        "\n",
        "**Example:** Virtual assistants like Siri and Alexa.\n",
        "### **Machine Learning (ML):**\n",
        "A subfield of AI that focuses on building algorithms and models that allow a system to learn from data and improve its performance over time, without being explicitly programmed for every specific task.\n",
        "\n",
        "**Analogy:** A major technique for making the robot smart by teaching it using examples rather than providing rigid instructions.\n",
        "\n",
        "**Example:** A spam filter that learns to identify new spam emails based on a large dataset of past emails labeled as \"spam\" or \"not spam\".\n",
        "### **Deep Learning (DL):**\n",
        "A specialized subset of ML that uses deep neural networks with many layers to analyze large amounts of data. The \"deep\" refers to these multiple hidden layers, which are inspired by the human brain's neural pathways.\n",
        "\n",
        "**Analogy:** Giving the robot a complex, multi-layered brain that enables it to learn much more subtle and intricate things than basic ML.\n",
        "\n",
        "**Example:** Image and facial recognition, which uses deep learning to identify objects and people in photos and videos.\n",
        "### **Data Science (DS):**\n",
        "A multidisciplinary field that uses scientific methods, processes, and algorithms to extract valuable insights and knowledge from structured and unstructured data. Data science focuses on the entire lifecycle of data, from collection and cleaning to analysis and visualization, and often uses ML and DL as tools to accomplish its goals.\n",
        "\n",
        "**Analogy:** A detective who uses a wide variety of tools, including advanced forensics (ML/DL), to solve a mystery by piecing together clues (data).\n",
        "\n",
        "**Example:** A data scientist might analyze customer data using machine learning algorithms to predict churn and then visualize those insights to help business leaders make strategic decisions."
      ],
      "metadata": {
        "id": "Y-sjnTsk1cgF"
      }
    },
    {
      "cell_type": "markdown",
      "source": [
        "## **Question 2**: What are the types of machine learning? Describe each with one real-world example.\n",
        "**Answer:**\n",
        "Machine learning can be categorized into four main types: supervised, unsupervised, semi-supervised, and reinforcement learning. Each type has a distinct approach to how it learns from data.\n",
        "\n",
        "### **Supervised learning**\n",
        "In supervised learning, the model is trained on a labeled dataset, where both the input data and the corresponding correct output are provided. The algorithm learns to map the inputs to the outputs and can then predict outcomes for new, unseen data.\n",
        "\n",
        "**Real-world example:** Email spam filter\n",
        "An email service trains a model on a large dataset of emails that are already labeled as either \"spam\" or \"not spam.\"\n",
        "\n",
        "**Input:** The content of the emails, including the text, sender, and subject line.\n",
        "\n",
        "**Output:** The label indicating whether each email is spam or not.\n",
        "\n",
        "**Process:** The model learns the patterns and keywords that differentiate spam from legitimate emails.\n",
        "**Prediction:** When a new email arrives, the trained model can predict if it is spam and automatically send it to the junk folder.\n",
        "### **Unsupervised learning**\n",
        "This type of learning uses algorithms to analyze and cluster unlabeled datasets, finding hidden patterns or intrinsic structures on its own. There is no \"correct\" output, so the algorithm explores the data to discover interesting insights.\n",
        "\n",
        "**Real-world example:** Customer segmentation\n",
        "A retailer wants to understand its customer base better without having any predefined customer categories.\n",
        "\n",
        "**Input:** Unlabeled customer data, such as purchasing history, browsing behavior, and demographics.\n",
        "\n",
        "**Output:** No predetermined output. The algorithm discovers groupings on its own.\n",
        "\n",
        "**Process:** An unsupervised learning algorithm, like K-means clustering, analyzes the data and groups customers with similar buying habits and characteristics into different segments.\n",
        "\n",
        "**Insight:** The retailer can now tailor its marketing strategies for each discovered customer segment, such as targeting \"frequent luxury buyers\" or \"discount shoppers\".\n",
        "### **Semi-supervised learning**\n",
        "This approach combines a small amount of labeled data with a large amount of unlabeled data during training. It is particularly useful when acquiring labeled data is expensive or time-consuming, as it allows the model to leverage the abundant unlabeled data to improve its performance.\n",
        "\n",
        "**Real-world example:** Image classification\n",
        "A social media platform wants to automatically tag photos but has a limited number of manually labeled images.\n",
        "\n",
        "**Input:** A small set of images labeled with objects (e.g., \"cat,\" \"dog\") and a vast number of unlabeled photos.\n",
        "\n",
        "**Process:** A semi-supervised model is first trained on the small labeled dataset. It then uses this initial understanding to make predictions (pseudo-labels) for the unlabeled images. The most confident predictions are added back into the training data, and the model refines its knowledge in an iterative process.\n",
        "\n",
        "**Result:** The model improves its accuracy at recognizing objects and can automatically suggest tags for new photos.\n",
        "### **Reinforcement learning**\n",
        "In reinforcement learning, a software \"agent\" learns to make decisions by performing actions in an environment. It receives a reward for correct actions and a penalty for incorrect ones. The goal is to learn a policy that maximizes the total reward over time through trial and error.\n",
        "\n",
        "**Real-world example**: Autonomous driving\n",
        "A self-driving car must learn to navigate a complex and dynamic road environment.\n",
        "\n",
        "**Agent:** The self-driving car.\n",
        "\n",
        "**Environment:** The road, other cars, pedestrians, traffic lights, and obstacles.\n",
        "\n",
        "**Actions:** Accelerating, braking, turning, changing lanes.\n",
        "Reward/Penalty:\n",
        "The car receives a reward for reaching its destination safely and efficiently.\n",
        "It receives a penalty for breaking traffic laws, getting into an accident, or driving inefficiently."
      ],
      "metadata": {
        "id": "DvdwAW2b4WI9"
      }
    },
    {
      "cell_type": "markdown",
      "source": [
        "##**Question 3:**: Define overfitting, underfitting, and the bias-variance tradeoff in machine learning.\n",
        "\n",
        "**Answer:**\n",
        "\n",
        "### **Overfitting**\n",
        "Overfitting occurs when a model learns the training data too well, including its random fluctuations and noise, rather than the underlying patterns. This causes the model to perform exceptionally well on the training data but poorly on new, unseen data.\n",
        "\n",
        "**Symptoms:** High accuracy on the training set but significantly lower accuracy on the test set.\n",
        "\n",
        "**Causes:**The model is too complex for the amount of training data available.The training data contains irrelevant information (noise).The model has been trained for too long.\n",
        "\n",
        "**Analogy:** A student who memorizes test answers without understanding the material will do well on a practice test but fail the actual exam if the questions are different.\n",
        "### **Underfitting**\n",
        "Underfitting is the opposite of overfitting and happens when a model is too simple to capture the underlying patterns in the training data. As a result, the model performs poorly on both the training and test datasets because it has failed to learn the key relationships.\n",
        "\n",
        "**Symptoms:** Low accuracy on both training and test sets.\n",
        "**Causes:**The model is not complex enough for the data.The model has not been trained for a sufficient amount of time.The input features are not a good representation of the data.Analogy: A student who doesn't study enough will perform poorly on both practice tests and the real exam.\n",
        "### **Bias-variance tradeoff**\n",
        "The bias-variance tradeoff is a central theme in machine learning that explains the relationship between model complexity and error. The total error of a model can be broken down into three components:\n",
        "\n",
        "**Bias:** The error introduced by an overly simplistic model that makes strong assumptions about the data.High bias leads to underfitting.A simple model, like linear regression, has high bias and low variance.\n",
        "\n",
        "**Variance:** The error introduced by a model that is too sensitive to the specific training data it was given.High variance leads to overfitting.A complex model, like a high-degree polynomial, has low bias but high variance.\n",
        "\n",
        "**The Tradeoff:** As you increase a model's complexity, its bias decreases (it can capture more complex patterns), but its variance increases (it becomes more sensitive to the training data). Conversely, simplifying a model increases bias but decreases variance. The goal is to find the \"sweet spot\"—the optimal level of complexity where the total error is minimized, balancing the model's ability to learn with its ability to generalize."
      ],
      "metadata": {
        "id": "552tIUyY7UQs"
      }
    },
    {
      "cell_type": "markdown",
      "source": [
        "## **Question 4:**What are outliers in a dataset, and list three common techniques for handling them.\n",
        "\n",
        "\n",
        "**Answer:**\n",
        "\n",
        "An outlier is a data point that significantly differs from other observations in a dataset. They can occur naturally from genuine variation, or they may be the result of a data entry, measurement, or processing error. Outliers can skew statistical measures, impact model accuracy, and ultimately lead to misleading conclusions if not handled appropriately.\n",
        "\n",
        "### **techniques for handling outliers**\n",
        "\n",
        "**1. Trimming (Removing outliers):**\n",
        "\n",
        "This technique involves deleting the data points identified as outliers from the dataset.\n",
        "\n",
        "**Pros:** It is a simple and straightforward method that can prevent extreme values from disproportionately influencing a statistical analysis.\n",
        "\n",
        "**Cons:** Trimming can be risky if the outliers represent true, albeit rare, data. Removing too much data can reduce the size of the dataset, potentially losing valuable information or reducing the statistical power of the analysis.\n",
        "\n",
        "**2.Capping (Winsorization):**\n",
        "\n",
        "Capping involves setting a threshold for the upper and lower limits of a dataset. Any outlier values that exceed these limits are then replaced with the threshold value. A common method is to use the interquartile range (IQR) to define these boundaries.\n",
        "\n",
        "**Pros:** This method reduces the effect of extreme values on the analysis without completely discarding the data, thereby preserving the dataset size.\n",
        "\n",
        "**Cons:** Capping can create an artificial concentration of data points at the boundary, potentially distorting the original distribution of the data.\n",
        "\n",
        "**3.Imputation:**\n",
        "\n",
        " This method treats outliers as missing values and replaces them with an imputed value. A median or mean imputation can be used, though the median is often preferred because it is less affected by the extreme values of the outliers.\n",
        "\n",
        "**Pros:** Imputation retains all data points, preventing information loss.\n",
        "\n",
        "**Cons:** Imputing values can introduce new inaccuracies if not done carefully.\n",
        "\n",
        "**For example,** using the mean can be heavily influenced by the outlier itself. More advanced techniques like using machine learning models (e.g., K-nearest neighbors) can be used to predict a more reasonable value.\n",
        "Deciding which technique to use depends on the cause of the outlier, the dataset size, and the goals of the analysis. If you'd like to explore how to apply one of these methods to a specific dataset or use case, I can provide more detailed steps.\n"
      ],
      "metadata": {
        "id": "TKxvMtKW9d90"
      }
    },
    {
      "cell_type": "markdown",
      "source": [
        "##**Question 5:** Explain the process of handling missing values and mention one imputation technique for numerical and one for categorical data.\n",
        "\n",
        "\n",
        "**Answer:**\n",
        "\n",
        "Handling missing values is a multi-step process crucial for data integrity and model performance, since many machine learning algorithms cannot work with incomplete data. The overall approach typically involves identification, analysis of the missing data's nature, and finally, using an appropriate technique to either remove or replace the missing entries.\n",
        "The process of handling missing values\n",
        "\n",
        "###**Identify the missing data:**\n",
        "The first step is to quantify and locate the missing values in your dataset. This can be done by using statistical summaries or visualizations to see which variables are affected and to what extent.\n",
        "###**Analyze the missingness mechanism:**\n",
        "Understand why the data is missing, as this influences the choice of handling method. Missing data generally fall into one of three types:\n",
        "\n",
        "**Missing Completely at Random (MCAR):**\n",
        "\n",
        "The missingness has no relationship with any other data in the dataset. For example, a row of data is deleted due to a random system error.\n",
        "\n",
        "**Missing at Random (MAR):**\n",
        "\n",
        "The missingness is related to other observed data in the dataset but not to the missing value itself.\n",
        "\n",
        "**For example,** older people are less likely to report their income, but the missing income values are not dependent on the specific income amount.\n",
        "\n",
        "**Missing Not at Random (MNAR):**\n",
        "\n",
        "The missingness is related to the missing value itself.\n",
        "\n",
        "**For example,** individuals with very high incomes are less likely to report them.\n",
        "\n",
        "###**Choose a handling strategy:**\n",
        "Based on the analysis, you can either delete the data or use imputation to fill in the missing values.\n",
        "Deletion: If the number of missing values is very small (e.g., less than 5%) and they are MCAR, you can simply remove the rows or columns with missing data. However, this risks losing valuable information.\n",
        "Imputation: When deleting data is not an option, you can replace the missing values with an estimated or substituted value."
      ],
      "metadata": {
        "id": "4peHFh93Eus8"
      }
    },
    {
      "cell_type": "markdown",
      "source": [
        "##**Question 6:** Write a Python program that:\n",
        "● Creates a synthetic imbalanced dataset with make_classification() from\n",
        "sklearn.datasets.\n",
        "\n",
        "● Prints the class distribution.\n",
        "\n",
        "\n",
        "(*Include your Python code and output in the code box below.*)\n",
        "\n",
        "**Answer:**\n",
        "\n",
        "***Paste your code and output inside the box below:***"
      ],
      "metadata": {
        "id": "q2xBqdpfFEBU"
      }
    },
    {
      "cell_type": "code",
      "source": [
        "from sklearn.datasets import make_classification\n",
        "from collections import Counter\n",
        "\n",
        "# 1. Create a synthetic imbalanced dataset\n",
        "# The 'weights' parameter creates an imbalance. Here, 90% of the data\n",
        "# will belong to class 0, and 10% will belong to class 1.\n",
        "# A random_state is used for reproducibility.\n",
        "X, y = make_classification(n_samples=1000,\n",
        "                           n_features=10,\n",
        "                           n_informative=5,\n",
        "                           n_redundant=0,\n",
        "                           n_classes=2,\n",
        "                           weights=[0.9, 0.1],\n",
        "                           random_state=42)\n",
        "\n",
        "# 2. Print the class distribution\n",
        "# Counter is a simple way to count the occurrences of each class in the target array 'y'.\n",
        "class_distribution = Counter(y)\n",
        "print(f\"Generated data shape: {X.shape}\")\n",
        "print(f\"Class distribution: {class_distribution}\")\n",
        "\n",
        "# --- Output ---\n",
        "# Generated data shape: (1000, 10)\n",
        "# Class distribution: Counter({0: 900, 1: 100})"
      ],
      "metadata": {
        "colab": {
          "base_uri": "https://localhost:8080/"
        },
        "id": "h71sy6ekCIAS",
        "outputId": "e2ad15da-58cb-4d1e-8933-c80c72e4f8ab"
      },
      "execution_count": 1,
      "outputs": [
        {
          "output_type": "stream",
          "name": "stdout",
          "text": [
            "Generated data shape: (1000, 10)\n",
            "Class distribution: Counter({np.int64(0): 897, np.int64(1): 103})\n"
          ]
        }
      ]
    },
    {
      "cell_type": "markdown",
      "source": [
        "##**Question 7:** Implement one-hot encoding using pandas for the following list of colors:\n",
        "['Red', 'Green', 'Blue', 'Green', 'Red']. Print the resulting dataframe.\n",
        "(Include your Python code and output in the code box below.)\n",
        "\n",
        "**Answer:**\n",
        "\n",
        "***Paste your code and output inside the box below:***"
      ],
      "metadata": {
        "id": "CjaTE2vnFe50"
      }
    },
    {
      "cell_type": "code",
      "source": [
        "import pandas as pd\n",
        "\n",
        "colors = ['Red', 'Green', 'Blue', 'Green', 'Red']\n",
        "\n",
        "# Create a Pandas Series from the list of colors\n",
        "colors_series = pd.Series(colors, name='Color')\n",
        "\n",
        "# Apply one-hot encoding using pd.get_dummies()\n",
        "one_hot_encoded_df = pd.get_dummies(colors_series, prefix='Color')\n",
        "\n",
        "# Print the resulting DataFrame\n",
        "print(one_hot_encoded_df)"
      ],
      "metadata": {
        "colab": {
          "base_uri": "https://localhost:8080/"
        },
        "id": "fzgbcgfnDP80",
        "outputId": "5ce8a2bb-cffe-45c8-c03d-c70337a6a281"
      },
      "execution_count": 2,
      "outputs": [
        {
          "output_type": "stream",
          "name": "stdout",
          "text": [
            "   Color_Blue  Color_Green  Color_Red\n",
            "0       False        False       True\n",
            "1       False         True      False\n",
            "2        True        False      False\n",
            "3       False         True      False\n",
            "4       False        False       True\n"
          ]
        }
      ]
    },
    {
      "cell_type": "markdown",
      "source": [
        "##**Question 8:**  Write a Python script to:\n",
        "● Generate 1000 samples from a normal distribution.\n",
        "● Introduce 50 random missing values.\n",
        "● Fill missing values with the column mean.\n",
        "● Plot a histogram before and after imputation.\n",
        "(Include your Python code and output in the code box below.)\n",
        "\n",
        "**Answer:**\n",
        "\n",
        "***Paste your code and output inside the box below:***"
      ],
      "metadata": {
        "id": "SAFUvwqBGIHb"
      }
    },
    {
      "cell_type": "code",
      "source": [
        "import numpy as np\n",
        "import matplotlib.pyplot as plt\n",
        "\n",
        "# Generate 1000 samples from a normal distribution\n",
        "np.random.seed(42)  # for reproducibility\n",
        "data = np.random.normal(loc=0, scale=1, size=1000)\n",
        "\n",
        "# Introduce 50 random missing values\n",
        "missing_indices = np.random.choice(len(data), size=50, replace=False)\n",
        "data_with_missing = np.copy(data)\n",
        "data_with_missing[missing_indices] = np.nan\n",
        "\n",
        "# Plot histogram before imputation (with missing values)\n",
        "plt.figure(figsize=(10, 5))\n",
        "plt.subplot(1, 2, 1)\n",
        "plt.hist(data_with_missing[~np.isnan(data_with_missing)], bins=30, edgecolor='black')\n",
        "plt.title('Histogram Before Imputation')\n",
        "plt.xlabel('Value')\n",
        "plt.ylabel('Frequency')\n",
        "\n",
        "# Fill missing values with the column mean\n",
        "column_mean = np.nanmean(data_with_missing)\n",
        "data_imputed = np.copy(data_with_missing)\n",
        "data_imputed[np.isnan(data_imputed)] = column_mean\n",
        "\n",
        "# Plot histogram after imputation\n",
        "plt.subplot(1, 2, 2)\n",
        "plt.hist(data_imputed, bins=30, edgecolor='black')\n",
        "plt.title('Histogram After Imputation')\n",
        "plt.xlabel('Value')\n",
        "plt.ylabel('Frequency')\n",
        "\n",
        "plt.tight_layout()\n",
        "plt.show()\n",
        "\n",
        "print(f\"Original data mean: {np.mean(data):.4f}\")\n",
        "print(f\"Data with missing values (excluding NaN) mean: {np.nanmean(data_with_missing):.4f}\")\n",
        "print(f\"Column mean used for imputation: {column_mean:.4f}\")\n",
        "print(f\"Imputed data mean: {np.mean(data_imputed):.4f}\")\n"
      ],
      "metadata": {
        "colab": {
          "base_uri": "https://localhost:8080/",
          "height": 576
        },
        "id": "ibvl6LFNGvJu",
        "outputId": "db4680e1-a1a1-48e5-b36e-b4c32fc92503"
      },
      "execution_count": 3,
      "outputs": [
        {
          "output_type": "display_data",
          "data": {
            "text/plain": [
              "<Figure size 1000x500 with 2 Axes>"
            ],
            "image/png": "[encoded data removed]"
          },
          "metadata": {}
        },
        {
          "output_type": "stream",
          "name": "stdout",
          "text": [
            "Original data mean: 0.0193\n",
            "Data with missing values (excluding NaN) mean: 0.0158\n",
            "Column mean used for imputation: 0.0158\n",
            "Imputed data mean: 0.0158\n"
          ]
        }
      ]
    },
    {
      "cell_type": "markdown",
      "source": [
        "**Question 9:** : Implement Min-Max scaling on the following list of numbers [2, 5, 10, 15,\n",
        "20] using sklearn.preprocessing.MinMaxScaler. Print the scaled array.\n",
        "(Include your Python code and output in the code box below.)\n",
        "\n",
        "\n",
        "**Answer:**\n",
        "\n",
        "***Paste your code and output inside the box below:***"
      ],
      "metadata": {
        "id": "RyGTtSwbInMF"
      }
    },
    {
      "cell_type": "code",
      "source": [
        "import numpy as np\n",
        "from sklearn.preprocessing import MinMaxScaler\n",
        "\n",
        "# Original list of numbers\n",
        "data = np.array([2, 5, 10, 15, 20]).reshape(-1, 1)\n",
        "\n",
        "# Initialize the MinMaxScaler\n",
        "scaler = MinMaxScaler()\n",
        "\n",
        "# Fit the scaler to the data and transform it\n",
        "scaled_data = scaler.fit_transform(data)\n",
        "\n",
        "# Print the scaled array\n",
        "print(\"Original data:\\n\", data.flatten())\n",
        "print(\"Scaled data:\\n\", scaled_data.flatten())"
      ],
      "metadata": {
        "colab": {
          "base_uri": "https://localhost:8080/"
        },
        "id": "doh0CtDI9ig1",
        "outputId": "e50f4b13-8806-4fad-cccf-1e58e235c12c"
      },
      "execution_count": 4,
      "outputs": [
        {
          "output_type": "stream",
          "name": "stdout",
          "text": [
            "Original data:\n",
            " [ 2  5 10 15 20]\n",
            "Scaled data:\n",
            " [0.         0.16666667 0.44444444 0.72222222 1.        ]\n"
          ]
        }
      ]
    },
    {
      "cell_type": "markdown",
      "source": [
        "**Question 10:** : You are working as a data scientist for a retail company. You receive a customer\n",
        "transaction dataset that contains:\n",
        "● Missing ages,\n",
        "● Outliers in transaction amount,\n",
        "● A highly imbalanced target (fraud vs. non-fraud),\n",
        "● Categorical variables like payment method.\n",
        "Explain the step-by-step data preparation plan you’d follow before training a machine learning\n",
        "model. Include how you’d address missing data, outliers, imbalance, and encoding.\n",
        "(Include your Python code and output in the code box below.)\n",
        "\n",
        "\n",
        "**Answer:**\n",
        "\n",
        "***Paste your code and output inside the box below:***"
      ],
      "metadata": {
        "id": "06cs-ena57G-"
      }
    },
    {
      "cell_type": "code",
      "source": [
        "import pandas as pd\n",
        "import numpy as np\n",
        "\n",
        "# Create a synthetic dataset to illustrate the process\n",
        "data = {\n",
        "    'age': [25, 30, np.nan, 45, 60, 28, 35, 999, 40, 50],\n",
        "    'transaction_amount': [100, 150, 50, 200, 50000, 75, 120, 80, 110, 130],\n",
        "    'payment_method': ['card', 'cash', 'card', 'online', 'card', 'cash', 'card', 'online', 'card', 'cash'],\n",
        "    'is_fraud': [0, 0, 0, 0, 1, 0, 0, 1, 0, 0] # Highly imbalanced target\n",
        "}\n",
        "df = pd.DataFrame(data)\n",
        "\n",
        "print(\"Original DataFrame:\")\n",
        "print(df)\n",
        "print(\"\\nDataFrame Info:\")\n",
        "print(df.info())\n",
        "print(\"\\nDescriptive Statistics:\")\n",
        "print(df.describe())\n"
      ],
      "metadata": {
        "colab": {
          "base_uri": "https://localhost:8080/"
        },
        "id": "UqY5wqphKRIz",
        "outputId": "7d2cc43c-a75c-4d6b-cdf2-9c01c7c97f23"
      },
      "execution_count": 5,
      "outputs": [
        {
          "output_type": "stream",
          "name": "stdout",
          "text": [
            "Original DataFrame:\n",
            "     age  transaction_amount payment_method  is_fraud\n",
            "0   25.0                 100           card         0\n",
            "1   30.0                 150           cash         0\n",
            "2    NaN                  50           card         0\n",
            "3   45.0                 200         online         0\n",
            "4   60.0               50000           card         1\n",
            "5   28.0                  75           cash         0\n",
            "6   35.0                 120           card         0\n",
            "7  999.0                  80         online         1\n",
            "8   40.0                 110           card         0\n",
            "9   50.0                 130           cash         0\n",
            "\n",
            "DataFrame Info:\n",
            "<class 'pandas.core.frame.DataFrame'>\n",
            "RangeIndex: 10 entries, 0 to 9\n",
            "Data columns (total 4 columns):\n",
            " #   Column              Non-Null Count  Dtype  \n",
            "---  ------              --------------  -----  \n",
            " 0   age                 9 non-null      float64\n",
            " 1   transaction_amount  10 non-null     int64  \n",
            " 2   payment_method      10 non-null     object \n",
            " 3   is_fraud            10 non-null     int64  \n",
            "dtypes: float64(1), int64(2), object(1)\n",
            "memory usage: 452.0+ bytes\n",
            "None\n",
            "\n",
            "Descriptive Statistics:\n",
            "              age  transaction_amount   is_fraud\n",
            "count    9.000000           10.000000  10.000000\n",
            "mean   145.777778         5101.500000   0.200000\n",
            "std    320.156125        15775.781025   0.421637\n",
            "min     25.000000           50.000000   0.000000\n",
            "25%     30.000000           85.000000   0.000000\n",
            "50%     40.000000          115.000000   0.000000\n",
            "75%     50.000000          145.000000   0.000000\n",
            "max    999.000000        50000.000000   1.000000\n"
          ]
        }
      ]
    }
  ]
}