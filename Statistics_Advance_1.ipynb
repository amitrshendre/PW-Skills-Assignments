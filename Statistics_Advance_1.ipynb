{
  "nbformat": 4,
  "nbformat_minor": 0,
  "metadata": {
    "colab": {
      "provenance": []
    },
    "kernelspec": {
      "name": "python3",
      "display_name": "Python 3"
    },
    "language_info": {
      "name": "python"
    }
  },
  "cells": [
    {
      "cell_type": "markdown",
      "source": [
        "# Statistics Advance 1"
      ],
      "metadata": {
        "id": "4lWKZpYOb2ZT"
      }
    },
    {
      "cell_type": "markdown",
      "source": [
        "-----------------------------------------------------------------\n",
        "Q1. What is a random variable in probability theory?\n",
        "- A random variable is a variable whose possible values are numerical outcomes of a random phenomenon. There are two types of random variables: discrete and continuous.\n",
        "- **Example:** The number of heads in 10 coin flips is a discrete random variable.\n",
        "- **Explanation:** In this example, the random variable can take on any integer value from 0 to 10, depending on the number of heads observed in 10 coin flips.\n",
        "-----------------------------------------------------------------\n",
        "Q2. What are the types of random variables?\n",
        "- There are two types of random variables: discrete and continuous.\n",
        "  - Discrete random variables take on a countable number of distinct values.\n",
        "  - Continuous random variables take on an infinite number of possible values.\n",
        "- **Example:** The number of students in a class is a discrete random variable, while the height of students is a continuous random variable.\n",
        "- **Explanation:** The number of students can only be whole numbers (e.g., 20, 21), while height can take on any value within a range (e.g., 170.5 cm, 171.2 cm).\n",
        "-----------------------------------------------------------------\n",
        "Q3. What is the difference between discrete and continuous distributions?\n",
        "- Discrete distributions describe the probability of outcomes of a discrete random variable, while continuous distributions describe the probability of outcomes of a continuous random variable.\n",
        "- **Example:** The binomial distribution is a discrete distribution, while the normal distribution is a continuous distribution.\n",
        "- **Explanation:** The binomial distribution models the number of successes in a fixed number of trials, while the normal distribution models continuous data that is symmetrically distributed around the mean.\n",
        "-----------------------------------------------------------------\n",
        "Q4. What is the binomial distribution, and how is it used in probability?\n",
        "- The binomial distribution describes the number of successes in a fixed number of independent Bernoulli trials. It is used to model situations where there are a fixed number of trials, each with the same probability of success.\n",
        "- **Example:** The number of heads in 10 coin flips follows a binomial distribution.\n",
        "- **Explanation:** The binomial distribution calculates the probability of getting a certain number of successes (e.g., heads) in a fixed number of trials (e.g., 10 coin flips).\n",
        "-----------------------------------------------------------------\n",
        "Q5. What is the standard normal distribution, and why is it important?\n",
        "- The standard normal distribution is a normal distribution with a mean of 0 and a standard deviation of 1. It is important because it allows for the standardization of normal distributions, making it easier to calculate probabilities and compare different distributions.\n",
        "- **Example:** Converting a normal distribution to a standard normal distribution using z-scores.\n",
        "- **Explanation:** Standardizing data using z-scores allows for comparison across different normal distributions by converting them to a common scale.\n",
        "-----------------------------------------------------------------\n",
        "Q6. What is the Central Limit Theorem (CLT), and why is it critical in statistics?\n",
        "- The Central Limit Theorem (CLT) states that the sampling distribution of the sample mean approaches a normal distribution as the sample size increases, regardless of the population distribution. It is critical because it allows for the use of normal distribution techniques in hypothesis testing and confidence intervals.\n",
        "- **Example:** The average height of a large sample of students will be approximately normally distributed, even if the population distribution is not normal.\n",
        "- **Explanation:** The CLT enables statisticians to make inferences about population parameters using sample data, even when the population distribution is unknown.\n",
        "-----------------------------------------------------------------\n",
        "Q7. What is the significance of confidence intervals in statistical analysis?\n",
        "- Confidence intervals provide a range of values within which the true population parameter is expected to lie with a certain level of confidence. They give an indication of the precision and reliability of the estimate.\n",
        "- **Example:** A 95% confidence interval for the mean height of students might be 170 cm to 180 cm.\n",
        "- **Explanation:** Confidence intervals account for sampling variability and provide a range that is likely to contain the true population parameter.\n",
        "-----------------------------------------------------------------\n",
        "Q8. What is the concept of expected value in a probability distribution?\n",
        "- The expected value is the long-term average or mean value of a random variable. It is calculated by summing the products of each possible value and its probability.\n",
        "`Formula: E(X) = Σ [x * P(x)]`\n",
        "- **Example:** The expected value of rolling a fair six-sided die is `(1+2+3+4+5+6)/6 = 3.5`.\n",
        "- **Explanation:** The expected value represents the average outcome if the random experiment is repeated many times.\n",
        "-----------------------------------------------------------------"
      ],
      "metadata": {
        "id": "etavA7n6b4VO"
      }
    },
    {
      "cell_type": "markdown",
      "source": [
        "# Practical Questions"
      ],
      "metadata": {
        "id": "7aCJbQeVcW0f"
      }
    },
    {
      "cell_type": "code",
      "source": [
        "# Practical question\n",
        "'''\n",
        "Q9. Write a Python program to generate 1000 random numbers from a normal\n",
        "distribution with mean = 50 and standard deviation = 5. Compute its mean and standard\n",
        "deviation using NumPy, and draw a histogram to visualize the distribution.\n",
        "'''\n",
        "'''\n",
        "Answer:-9\n",
        "'''\n",
        "import numpy as np\n",
        "import matplotlib.pyplot as plt\n",
        "\n",
        "# Parameters for the normal distribution\n",
        "mean = 50\n",
        "std_dev = 5\n",
        "num_samples = 1000\n",
        "\n",
        "# Generate random numbers from a normal distribution\n",
        "# np.random.normal(loc=mean, scale=standard_deviation, size=number_of_samples)\n",
        "random_numbers = np.random.normal(loc=mean, scale=std_dev, size=num_samples)\n",
        "\n",
        "# Compute the mean and standard deviation of the generated numbers\n",
        "calculated_mean = np.mean(random_numbers)\n",
        "calculated_std_dev = np.std(random_numbers)\n",
        "\n",
        "print(f\"Generated {num_samples} random numbers from a normal distribution.\")\n",
        "print(f\"Theoretical Mean: {mean}, Theoretical Standard Deviation: {std_dev}\")\n",
        "print(f\"Calculated Mean: {calculated_mean:.2f}\")\n",
        "print(f\"Calculated Standard Deviation: {calculated_std_dev:.2f}\")\n",
        "\n",
        "# Draw a histogram to visualize the distribution\n",
        "plt.hist(random_numbers, bins=30, density=True, alpha=0.6, color='g')\n",
        "plt.title('Histogram of Normally Distributed Random Numbers')\n",
        "plt.xlabel('Value')\n",
        "plt.ylabel('Density')\n",
        "plt.grid(True)\n",
        "plt.show()"
      ],
      "metadata": {
        "id": "wQ2E4Z5Qe6NI",
        "colab": {
          "base_uri": "https://localhost:8080/",
          "height": 541
        },
        "outputId": "a2a2d11b-4319-4a79-e7b4-b0069f1a9bd5"
      },
      "execution_count": null,
      "outputs": [
        {
          "output_type": "stream",
          "name": "stdout",
          "text": [
            "Generated 1000 random numbers from a normal distribution.\n",
            "Theoretical Mean: 50, Theoretical Standard Deviation: 5\n",
            "Calculated Mean: 49.97\n",
            "Calculated Standard Deviation: 4.93\n"
          ]
        },
        {
          "output_type": "display_data",
          "data": {
            "text/plain": [
              "<Figure size 640x480 with 1 Axes>"
            ],
            "image/png": "[encoded data removed]"
          },
          "metadata": {}
        }
      ]
    },
    {
      "cell_type": "code",
      "source": [
        "# Practical question\n",
        "'''\n",
        "Q10. You are working as a data analyst for a retail company. The company has\n",
        "collected daily sales data for 2 years and wants you to identify the overall sales trend.\n",
        "daily_sales = [220, 245, 210, 265, 230, 250, 260, 275, 240, 255,\n",
        "235, 260, 245, 250, 225, 270, 265, 255, 250, 260]\n",
        "● Explain how you would apply the Central Limit Theorem to estimate the average sales\n",
        "with a 95% confidence interval.\n",
        "● Write the Python code to compute the mean sales and its confidence interval.\n",
        "\n",
        "'''\n",
        "'''\n",
        "Answer:-10\n",
        "'''\n",
        "import numpy as np\n",
        "from scipy import stats\n",
        "\n",
        "dailysale = [220, 245, 210, 265, 230, 250, 260, 275, 240, 255, 235, 260, 245, 250, 225, 270, 265, 255, 250, 260]\n",
        "\n",
        "# Calculate the mean\n",
        "mean_sales = np.mean(dailysale)\n",
        "\n",
        "# Calculate the 95% confidence interval for the mean\n",
        "# The t-distribution is used for small sample sizes\n",
        "confidence_interval = stats.t.interval(\n",
        "    confidence=0.95,\n",
        "    df=len(dailysale) - 1,\n",
        "    loc=mean_sales,\n",
        "    scale=stats.sem(dailysale)\n",
        ")\n",
        "\n",
        "print(f\"The sample mean sales is: {mean_sales:.2f}\")\n",
        "print(f\"The 95% confidence interval for the mean sales is: {confidence_interval}\")"
      ],
      "metadata": {
        "id": "VriAqvgBe4-w",
        "colab": {
          "base_uri": "https://localhost:8080/"
        },
        "outputId": "b2d6e5e0-cd29-45a7-8d63-a4240615cf9c"
      },
      "execution_count": null,
      "outputs": [
        {
          "output_type": "stream",
          "name": "stdout",
          "text": [
            "The sample mean sales is: 248.25\n",
            "The 95% confidence interval for the mean sales is: (np.float64(240.16957025147158), np.float64(256.3304297485284))\n"
          ]
        }
      ]
    }
  ]
}