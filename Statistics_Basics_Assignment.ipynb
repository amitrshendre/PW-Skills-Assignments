{
  "nbformat": 4,
  "nbformat_minor": 0,
  "metadata": {
    "colab": {
      "provenance": []
    },
    "kernelspec": {
      "name": "python3",
      "display_name": "Python 3"
    },
    "language_info": {
      "name": "python"
    }
  },
  "cells": [
    {
      "cell_type": "markdown",
      "source": [
        "#**Statistics Basics | Assignment**"
      ],
      "metadata": {
        "id": "ySsOWTt_0q1Y"
      }
    },
    {
      "cell_type": "markdown",
      "source": [
        "## **Question 1**: What is the difference between descriptive statistics and inferential statistics? Explain with examples.\n",
        "**Answer:**\n",
        "\n",
        "### **Descriptive Statistics**\n",
        "Descriptive statistics summarizes and organizes data so it can be easily understood. It works only on the data we already have and does not make any predictions.\n",
        "\n",
        "**Key Points:**\n",
        "- Deals with actual data only\n",
        "- Uses measures like: Mean, Median, Mode, Range, Standard Deviation\n",
        "- Uses charts like: Bar Chart, Histogram, Box Plot\n",
        "\n",
        "**Example:**  \n",
        "A teacher calculates the average score of 50 students in her class. She creates a bar chart to show grade distribution. This is descriptive statistics.\n",
        "\n",
        "### **Inferential Statistics**\n",
        "Inferential statistics helps us draw conclusions about a population based on a sample. It uses probabilities and involves some uncertainty.\n",
        "\n",
        "**Key Points:**\n",
        "- Makes predictions based on sample data\n",
        "- Uses: Hypothesis Testing, Confidence Intervals, Regression, etc.\n",
        "\n",
        "**Example:**  \n",
        "A company surveys 500 people about soft drinks, and uses this to guess the preference of the entire Indian population.\n",
        "\n"
      ],
      "metadata": {
        "id": "Y-sjnTsk1cgF"
      }
    },
    {
      "cell_type": "markdown",
      "source": [
        "## **Question 2**: What is sampling in statistics? Explain the differences between random and stratified sampling.\n",
        "**Answer:**\n",
        "\n",
        "**Sampling in statistics** is the process of selecting a subset of individuals or items from a larger population to gather data and make inferences about the entire population. It's often impractical or impossible to collect data from every member of a population, so sampling allows researchers to study a representative group.\n",
        "\n",
        "**Differences between Random Sampling and Stratified Sampling:**\n",
        "\n",
        "- **Random Sampling :**\n",
        "\n",
        "\n",
        "  - **Definition:** In simple random sampling, every individual or item in the population has an equal chance of being selected for the sample.\n",
        "\n",
        "  - **Method:** This can be done by assigning a number to each member of the population and then using a random number generator to select the sample.\n",
        "\n",
        "  - **Advantage:** It's simple to implement and helps ensure that the sample is representative of the population, reducing bias.\n",
        "\n",
        "  - **Disadvantage:** It might not guarantee representation of smaller subgroups within the population, especially if the population is diverse.\n",
        "\n",
        "  - **Example:** Drawing names out of a hat, or using a random number generator to select 50 students from a list of 500.\n",
        "\n",
        " - **Stratified Sampling :**\n",
        "\n",
        "   - **Definition:** Stratified sampling involves dividing the population into homogeneous subgroups (strata) based on shared characteristics (e.g., age, gender, income level). Then, a simple random sample is drawn from each stratum.\n",
        "\n",
        "   - **Method:** The proportion of individuals selected from each stratum usually matches their proportion in the overall population.\n",
        "\n",
        "   - **Advantage:** This method ensures that all relevant subgroups are represented in the sample, which can lead to more precise estimates for the entire population and for specific subgroups.\n",
        "\n",
        "   - **Disadvantage:** It requires prior knowledge about the population to divide it into strata, and it can be more complex to implement than simple random sampling.\n",
        "\n",
        "   - **Example:** To survey student opinions on a new policy, you might divide the university population into strata by academic year (freshman, sophomore, junior, senior) and then randomly select a proportional number of students from each year."
      ],
      "metadata": {
        "id": "DvdwAW2b4WI9"
      }
    },
    {
      "cell_type": "markdown",
      "source": [
        "##**Question 3:** Define mean, median, and mode. Explain why these measures of central tendency are important.\n",
        "\n",
        "**Answer:**\n",
        "\n",
        "**Mean**\n",
        "\n",
        "The mean is the most common type of average. It's calculated by adding all the values in a dataset and then dividing by the total number of values.\n",
        "\n",
        "For example, the mean of the numbers 2, 3, 5, and 10 is (2+3+5+10)/4=20/4=5.\n",
        "\n",
        "- **When to use:** The mean is best for datasets that are normally distributed (symmetrical) and do not contain outliers, as extreme values can heavily skew the result.\n",
        "\n",
        "**Median**\n",
        "\n",
        "The median is the middle value in a dataset that has been ordered from least to greatest. If the dataset has an odd number of values, the median is the single middle number. If it has an even number of values, the median is the average of the two middle numbers.\n",
        "\n",
        "For example, for the numbers 2, 3, 5, 10, the ordered list is the same, and the median is the average of the two middle numbers: (3+5)/2=4.\n",
        "\n",
        "- **When to use:** The median is a better measure of central tendency for skewed datasets or those with outliers because it is not affected by extreme values\n",
        "\n",
        "**Mode**\n",
        "\n",
        "The mode is the value that appears most frequently in a dataset. A dataset can have one mode (unimodal), more than one mode (multimodal), or no mode at all if no values repeat.\n",
        "\n",
        "For example, in the set of numbers 2, 3, 3, 5, 10, the mode is 3.\n",
        "\n",
        "**When to use:** The mode is particularly useful for categorical or non-numerical data where the mean and median cannot be calculated, such as finding the most common color of cars in a parking lot.\n",
        "\n",
        "**Why Are They Important?**\n",
        "\n",
        "These measures are crucial because they provide a simple, single-number summary of a complex dataset. They help researchers, analysts, and others to:\n",
        "\n",
        "- **Summarize data:** Instead of looking at every single data point, you can get a quick snapshot of the \"typical\" value.\n",
        "- **Compare datasets:** You can compare different groups by looking at their means, medians, or modes (e.g., comparing the average test scores of two different classes).\n",
        "- **Make informed decisions:** For example, a business can use the mode to determine the most popular product to stock more of, or a city planner can use the median income to understand the economic health of a neighborhood.\n"
      ],
      "metadata": {
        "id": "552tIUyY7UQs"
      }
    },
    {
      "cell_type": "markdown",
      "source": [
        "## **Question 4:** Explain skewness and kurtosis. What does a positive skew imply about the data?\n",
        "\n",
        "**Answer:**\n",
        "\n",
        "**Skewness and kurtosis** are statistical measures that describe the shape of a data distribution. While measures like the mean and median tell us about the center of the data, skewness and kurtosis provide information on how the data is distributed around that center.\n",
        "\n",
        "**Skewness**\n",
        "\n",
        "Skewness measures the asymmetry of a distribution. A perfectly symmetrical distribution, like a normal bell curve, has zero skewness. In this case, the mean, median, and mode are all equal. If the distribution isn't symmetrical, it's skewed either to the left or to the right.\n",
        "\n",
        " - **Zero Skewness:** The data is perfectly symmetrical, with the left and right sides of the distribution being mirror images of each other.\n",
        "Negative Skewness: The tail of the distribution is longer on the left side. This indicates that the majority of data points have higher values, but there are a few extreme low values that pull the mean down, so the mean is less than the median.\n",
        "\n",
        " - **Positive Skewness:** The tail of the distribution is longer on the right side. This indicates that most of the data points have lower values, but there are a few extreme high values that pull the mean up, so the mean is greater than the median.\n",
        "\n",
        "**Kurtosis**\n",
        "\n",
        "Kurtosis measures the \"tailedness\" of a distribution, or the presence of outliers. It describes how heavy or light the tails are relative to a normal distribution. A high kurtosis indicates that the distribution has heavy tails and a sharp peak, suggesting a high probability of outliers. Conversely, a low kurtosis implies light tails and a flatter peak, with fewer outliers.\n",
        "\n",
        " - **Mesokurtic:** This describes a distribution with a kurtosis similar to a normal distribution.\n",
        "\n",
        " - **Leptokurtic:** This distribution has a sharper peak and \"heavier\" or \"fatter\" tails than a normal distribution.\n",
        " - **Platykurtic:** This distribution has a flatter peak and \"lighter\" or \"thinner\" tails.\n",
        "\n",
        "**What a Positive Skew Implies**\n",
        "\n",
        "A **positive skew** implies that the distribution is **right-skewed**. The \"tail\" of the distribution, which represents the data points that occur less frequently, extends to the right. This means:\n",
        "\n",
        "- Most of the data is concentrated on the lower end of the scale.\n",
        "\n",
        " - There are a few, high-value outliers that pull the average (mean) upward.\n",
        "\n",
        "- The mean is greater than the median because of these high-value outliers. The median, being the middle value, is not affected by these extremes.\n",
        "\n",
        "A classic example of a positively skewed distribution is the income of people in a country. Most people fall into the lower and middle-income brackets, but a small number of extremely wealthy individuals create a long tail to the right, causing the mean income to be higher than the median income.\n"
      ],
      "metadata": {
        "id": "TKxvMtKW9d90"
      }
    },
    {
      "cell_type": "markdown",
      "source": [
        "##**Question 5:** Implement a Python program to compute the mean, median, and mode of a given list of numbers. numbers = [12, 15, 12, 18, 19, 12, 20, 22, 19, 19, 24, 24, 24, 26, 28]\n",
        "\n",
        "(*Include your Python code and output in the code box below.*)\n",
        "\n",
        "**Answer:**\n",
        "\n",
        "***Paste your code and output inside the box below:***\n"
      ],
      "metadata": {
        "id": "4peHFh93Eus8"
      }
    },
    {
      "cell_type": "code",
      "source": [
        "import statistics\n",
        "\n",
        "# Given list of numbers\n",
        "numbers = [12, 15, 12, 18, 19, 12, 20, 22, 19, 19, 24, 24, 24, 26, 28]\n",
        "\n",
        "# Calculate mean\n",
        "mean_val = statistics.mean(numbers)\n",
        "\n",
        "# Calculate median\n",
        "median_val = statistics.median(numbers)\n",
        "\n",
        "# Calculate mode\n",
        "mode_val = statistics.mode(numbers)\n",
        "\n",
        "# Output\n",
        "print(\"Mean:\", mean_val)\n",
        "print(\"Median:\", median_val)\n",
        "print(\"Mode:\", mode_val)"
      ],
      "metadata": {
        "colab": {
          "base_uri": "https://localhost:8080/"
        },
        "id": "niH9mTEMBmOf",
        "outputId": "7e05b000-d4a8-45c8-ed10-cb3addd7c561"
      },
      "execution_count": null,
      "outputs": [
        {
          "output_type": "stream",
          "name": "stdout",
          "text": [
            "Mean: 19.6\n",
            "Median: 19\n",
            "Mode: 12\n"
          ]
        }
      ]
    },
    {
      "cell_type": "markdown",
      "source": [
        "##**Question 6:** Compute the covariance and correlation coefficient between the following two datasets provided as lists in Python:\n",
        "\n",
        "list_x = [10, 20, 30, 40, 50]\n",
        "\n",
        "list_y = [15, 25, 35, 45, 60]\n",
        "\n",
        "(*Include your Python code and output in the code box below.*)\n",
        "\n",
        "**Answer:**\n",
        "\n",
        "***Paste your code and output inside the box below:***"
      ],
      "metadata": {
        "id": "q2xBqdpfFEBU"
      }
    },
    {
      "cell_type": "code",
      "source": [
        "import numpy as np\n",
        "\n",
        "list_x = [10, 20, 30, 40, 50]\n",
        "list_y = [15, 25, 35, 45, 60]\n",
        "\n",
        "# Convert lists to NumPy arrays\n",
        "x = np.array(list_x)\n",
        "y = np.array(list_y)\n",
        "\n",
        "# Compute the covariance matrix\n",
        "covariance_matrix = np.cov(x, y)\n",
        "covariance = covariance_matrix[0, 1]\n",
        "\n",
        "# Compute the correlation coefficient matrix\n",
        "correlation_matrix = np.corrcoef(x, y)\n",
        "correlation_coefficient = correlation_matrix[0, 1]\n",
        "\n",
        "print(f\"Covariance: {covariance}\")\n",
        "print(f\"Correlation Coefficient: {correlation_coefficient}\")"
      ],
      "metadata": {
        "colab": {
          "base_uri": "https://localhost:8080/"
        },
        "id": "h71sy6ekCIAS",
        "outputId": "a10d2187-e046-42b6-e410-2aa41c3aa3c5"
      },
      "execution_count": null,
      "outputs": [
        {
          "output_type": "stream",
          "name": "stdout",
          "text": [
            "Covariance: 275.0\n",
            "Correlation Coefficient: 0.995893206467704\n"
          ]
        }
      ]
    },
    {
      "cell_type": "markdown",
      "source": [
        "##**Question 7:** Write a Python script to draw a boxplot for the following numeric list and identify its outliers. Explain the result:\n",
        "\n",
        "data = [12, 14, 14, 15, 18, 19, 19, 21, 22, 22, 23, 23, 24, 26, 29, 35]\n",
        "\n",
        "(*Include your Python code and output in the code box below.*)\n",
        "\n",
        "**Answer:**\n",
        "\n",
        "***Paste your code and output inside the box below:***"
      ],
      "metadata": {
        "id": "CjaTE2vnFe50"
      }
    },
    {
      "cell_type": "code",
      "source": [
        "# Question 7: Write a Python script to draw a boxplot for the following numeric list and\n",
        "# identify its outliers. Explain the result:\n",
        "# data = [12, 14, 14, 15, 18, 19, 19, 21, 22, 22, 23, 23, 24, 26, 29, 35]\n",
        "# (Include your Python code and output in the code box below.)\n",
        "\n",
        "# Answer:\n",
        "\n",
        "import matplotlib.pyplot as plt\n",
        "import seaborn as sns\n",
        "import numpy as np\n",
        "\n",
        "# Given data\n",
        "data = [12, 14, 14, 15, 18, 19, 19, 21, 22, 22, 23, 23, 24, 26, 29, 35]\n",
        "\n",
        "# Draw the boxplot\n",
        "plt.figure(figsize=(8, 4))\n",
        "sns.boxplot(data=data, orient='h', color='lightblue')\n",
        "plt.title(\"Boxplot of Data\")\n",
        "plt.xlabel(\"Value\")\n",
        "plt.grid(True)\n",
        "plt.show()\n",
        "\n",
        "# Identify outliers using IQR\n",
        "Q1 = np.percentile(data, 25)\n",
        "Q3 = np.percentile(data, 75)\n",
        "IQR = Q3 - Q1\n",
        "lower_bound = Q1 - 1.5 * IQR\n",
        "upper_bound = Q3 + 1.5 * IQR\n",
        "outliers = [x for x in data if x < lower_bound or x > upper_bound]\n",
        "\n",
        "# Display outlier details\n",
        "print(\"Q1:\", Q1)\n",
        "print(\"Q3:\", Q3)\n",
        "print(\"IQR:\", IQR)\n",
        "print(\"Lower Bound:\", lower_bound)\n",
        "print(\"Upper Bound:\", upper_bound)\n",
        "print(\"Outliers:\", outliers)\n",
        "\n"
      ],
      "metadata": {
        "colab": {
          "base_uri": "https://localhost:8080/",
          "height": 514
        },
        "id": "fzgbcgfnDP80",
        "outputId": "9187043d-66d9-4614-86a5-2f0cdf2f54d8"
      },
      "execution_count": null,
      "outputs": [
        {
          "output_type": "display_data",
          "data": {
            "text/plain": [
              "<Figure size 800x400 with 1 Axes>"
            ],
            "image/png": "[encoded data removed]"
          },
          "metadata": {}
        },
        {
          "output_type": "stream",
          "name": "stdout",
          "text": [
            "Q1: 17.25\n",
            "Q3: 23.25\n",
            "IQR: 6.0\n",
            "Lower Bound: 8.25\n",
            "Upper Bound: 32.25\n",
            "Outliers: [35]\n"
          ]
        }
      ]
    },
    {
      "cell_type": "markdown",
      "source": [
        "##**Question 8:** You are working as a data analyst in an e-commerce company. The marketing team wants to know if there is a relationship between advertising spend and daily sales.\n",
        "- Explain how you would use covariance and correlation to explore this\n",
        "relationship.\n",
        "\n",
        "- Write Python code to compute the correlation between the two lists:\n",
        "\n",
        "**advertising_spend = [200, 250, 300, 400, 500]**\n",
        "\n",
        "**daily_sales = [2200, 2450, 2750, 3200, 4000]**\n",
        "\n",
        "(*Include your Python code and output in the code box below.*)\n",
        "\n",
        "**Answer:**\n",
        "\n",
        "In the world of data analysis, we frequently use statistical tools to understand relationships between different variables. When the marketing team wants to know if there's a relationship between advertising spend and daily sales, covariance and correlation are the perfect tools for the job.\n",
        "\n",
        "**Covariance**\n",
        "\n",
        "- **What it does:** Covariance measures the directional relationship between two variables. A positive covariance means that when one variable increases, the other tends to increase as well. A negative covariance means that when one variable increases, the other tends to decrease. A value near zero suggests no linear relationship.\n",
        "\n",
        "- **Why it's useful here:** Calculating the covariance between advertising spend and daily sales would tell us if they move in the same direction. If we get a positive number, we know that more spending on ads is generally associated with higher sales.\n",
        "\n",
        "**Correlation**\n",
        "\n",
        "- **What it does:** Correlation, on the other hand, measures both the direction and strength of the linear relationship between two variables. The correlation coefficient is a value between -1 and +1.\n",
        "  - +1: A perfect positive linear relationship.\n",
        "  - -1: A perfect negative linear relationship.\n",
        "  - 0: No linear relationship.\n",
        "- **Why it's useful here:** Correlation is more insightful than covariance because it is a standardized measure. If we find a correlation of, say, 0.9, we can confidently say there's a very strong positive relationship. This would provide the marketing team with a much clearer, more interpretable measure of the impact of their ad spending.\n",
        "\n",
        "\n"
      ],
      "metadata": {
        "id": "SAFUvwqBGIHb"
      }
    },
    {
      "cell_type": "code",
      "source": [
        "import numpy as np\n",
        "\n",
        "advertising_spend = [200, 250, 300, 400, 500]\n",
        "daily_sales = [2200, 2450, 2750, 3200, 4000]\n",
        "\n",
        "# Convert lists to NumPy arrays\n",
        "np_advertising_spend = np.array(advertising_spend)\n",
        "np_daily_sales = np.array(daily_sales)\n",
        "\n",
        "# Compute the correlation coefficient\n",
        "correlation_matrix = np.corrcoef(np_advertising_spend, np_daily_sales)\n",
        "correlation_coefficient = correlation_matrix[0, 1]\n",
        "\n",
        "print(f\"Advertising Spend: {advertising_spend}\")\n",
        "print(f\"Daily Sales: {daily_sales}\")\n",
        "print(f\"Correlation Coefficient: {correlation_coefficient}\")"
      ],
      "metadata": {
        "colab": {
          "base_uri": "https://localhost:8080/"
        },
        "id": "ibvl6LFNGvJu",
        "outputId": "05883e63-99ec-43d9-8174-bf632079b334"
      },
      "execution_count": null,
      "outputs": [
        {
          "output_type": "stream",
          "name": "stdout",
          "text": [
            "Advertising Spend: [200, 250, 300, 400, 500]\n",
            "Daily Sales: [2200, 2450, 2750, 3200, 4000]\n",
            "Correlation Coefficient: 0.9935824101653329\n"
          ]
        }
      ]
    },
    {
      "cell_type": "markdown",
      "source": [
        "**Question 9:** Your team has collected customer satisfaction survey data on a scale of 1-10 and wants to understand its distribution before launching a new product.\n",
        "\n",
        "- Explain which summary statistics and visualizations (e.g. mean, standard\n",
        "deviation, histogram) you’d use.\n",
        "\n",
        "- Write Python code to create a histogram using Matplotlib for the survey data:\n",
        "\n",
        "survey_scores = [7, 8, 5, 9, 6, 7, 8, 9, 10, 4, 7, 6, 9, 8, 7]\n",
        "\n",
        "(*Include your Python code and output in the code box below.*)\n",
        "\n",
        "**Answer:**\n",
        "\n",
        "Understanding the distribution of customer satisfaction scores is critical for your team before launching a new product. To get a clear picture of the data, I would recommend using a combination of summary statistics and a histogram.\n",
        "\n",
        "**Summary Statistics**\n",
        "\n",
        "- **Mean:** The average score. This gives us a single number to represent the central tendency of the data. For example, a mean of 7.5 would tell us that, on average, customers are quite satisfied.\n",
        "\n",
        "- **Median:** The middle score when the data is sorted. This is useful because it is not affected by outliers, giving us a more robust measure of the typical score.\n",
        "\n",
        "- **Standard Deviation:** This measures the spread or dispersion of the scores. A small standard deviation means the scores are tightly clustered around the mean, indicating consistent feedback. A large standard deviation means the scores are widely spread, suggesting a mix of very happy and very unhappy customers.\n",
        "\n",
        "**Visualizations**\n",
        "\n",
        "- **Histogram:** This is the most effective visualization for understanding the distribution. A histogram groups the scores into \"bins\" (e.g., scores of 1-3, 4-6, etc.) and shows how many data points fall into each bin.\n",
        "  - **Shape:** The shape of the histogram tells us a lot. A bell-shaped curve would suggest that most scores are centered around the average. A skewed histogram might indicate that most customers are either very satisfied or very dissatisfied.\n",
        "  - **Outliers:** We can visually identify any unusually low or high scores that might need further investigation.\n",
        "\n",
        "Here is the Python code to create a histogram for the survey data."
      ],
      "metadata": {
        "id": "RyGTtSwbInMF"
      }
    },
    {
      "cell_type": "code",
      "source": [
        "import matplotlib.pyplot as plt\n",
        "import numpy as np\n",
        "\n",
        "survey_scores = [7, 8, 5, 9, 6, 7, 8, 9, 10, 4, 7, 6, 9, 8, 7]\n",
        "\n",
        "# Create the histogram\n",
        "plt.figure(figsize=(10, 6))\n",
        "plt.hist(survey_scores, bins=np.arange(4, 12) - 0.5, edgecolor='black', alpha=0.7)\n",
        "plt.title('Distribution of Customer Satisfaction Survey Scores')\n",
        "plt.xlabel('Survey Score (1-10)')\n",
        "plt.ylabel('Frequency')\n",
        "plt.xticks(range(4, 11))\n",
        "plt.grid(axis='y', linestyle='--', alpha=0.7)\n",
        "plt.axvline(np.mean(survey_scores), color='red', linestyle='dashed', linewidth=1.5, label=f'Mean: {np.mean(survey_scores):.2f}')\n",
        "plt.legend()\n",
        "plt.savefig('survey_scores_histogram.png')\n",
        "plt.show()\n",
        "\n",
        "# Calculate and print summary statistics for additional context\n",
        "print(f\"Mean: {np.mean(survey_scores):.2f}\")\n",
        "print(f\"Median: {np.median(survey_scores)}\")\n",
        "print(f\"Standard Deviation: {np.std(survey_scores):.2f}\")"
      ],
      "metadata": {
        "colab": {
          "base_uri": "https://localhost:8080/",
          "height": 616
        },
        "id": "UqY5wqphKRIz",
        "outputId": "36e0ddd9-6954-4e74-dc90-2f446dde42f0"
      },
      "execution_count": null,
      "outputs": [
        {
          "output_type": "display_data",
          "data": {
            "text/plain": [
              "<Figure size 1000x600 with 1 Axes>"
            ],
            "image/png": "[encoded data removed]"
          },
          "metadata": {}
        },
        {
          "output_type": "stream",
          "name": "stdout",
          "text": [
            "Mean: 7.33\n",
            "Median: 7.0\n",
            "Standard Deviation: 1.58\n"
          ]
        }
      ]
    }
  ]
}